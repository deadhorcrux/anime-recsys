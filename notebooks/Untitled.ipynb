{
 "cells": [
  {
   "cell_type": "code",
   "execution_count": 35,
   "id": "f2295906-4c02-4e31-af39-2a7b36796603",
   "metadata": {},
   "outputs": [],
   "source": [
    "import pandas as pd \n",
    "import numpy as np\n",
    "from sklearn.model_selection import KFold\n",
    "from lightfm.data import Dataset\n",
    "from lightfm import LightFM\n",
    "from tqdm import tqdm\n",
    "import seaborn as sns\n",
    "import matplotlib.pyplot as plt"
   ]
  },
  {
   "cell_type": "code",
   "execution_count": 2,
   "id": "36dade6a-8412-47d5-902d-9cb401a75f31",
   "metadata": {},
   "outputs": [],
   "source": [
    "df = pd.read_pickle('./pkl/df.pickle')\n",
    "df_items = pd.read_pickle('./pkl/df_items.pickle')\n",
    "df_users = pd.read_pickle('./pkl/df_users.pickle')"
   ]
  },
  {
   "cell_type": "code",
   "execution_count": 3,
   "id": "41302263-73d0-471f-b225-e4e99e65cfa2",
   "metadata": {},
   "outputs": [],
   "source": [
    "item_feature = np.load('./pkl/item_feature.pickle.npy', allow_pickle=True)"
   ]
  },
  {
   "cell_type": "code",
   "execution_count": 4,
   "id": "a3ad89d5-5121-4222-abdf-4ff8e4d2e145",
   "metadata": {},
   "outputs": [],
   "source": [
    "user_feature = np.load('./pkl/user_feature.pickle.npy', allow_pickle=True)"
   ]
  },
  {
   "cell_type": "code",
   "execution_count": 5,
   "id": "94bb3865-1488-448a-9902-09fc3632a40d",
   "metadata": {},
   "outputs": [],
   "source": [
    "cv = KFold(n_splits = 5, shuffle=False)"
   ]
  },
  {
   "cell_type": "code",
   "execution_count": 6,
   "id": "25540c25-7be7-4cab-bbce-33813c2a1137",
   "metadata": {},
   "outputs": [],
   "source": [
    "folds = list(cv.split(df))"
   ]
  },
  {
   "cell_type": "code",
   "execution_count": 7,
   "id": "f460a70a-53d5-43a2-b95b-89c9603bb23e",
   "metadata": {},
   "outputs": [],
   "source": [
    "dataset = Dataset()\n",
    "dataset.fit(df['user_id'].unique(), df['item_id'].unique())\n",
    "dataset.fit_partial(user_features=user_feature)\n",
    "dataset.fit_partial(item_features=item_feature)"
   ]
  },
  {
   "cell_type": "code",
   "execution_count": 8,
   "id": "8dc842e8-f476-4bd8-98a1-87b99252df77",
   "metadata": {},
   "outputs": [
    {
     "name": "stdout",
     "output_type": "stream",
     "text": [
      "users_mapping len -  31526\n",
      "user_features_mapping len -  31534\n",
      "items_mapping len -  14717\n",
      "Users item_features_mapping len -  17497\n"
     ]
    }
   ],
   "source": [
    "lightfm_mapping = dataset.mapping()\n",
    "lightfm_mapping = {\n",
    "    'users_mapping': lightfm_mapping[0],\n",
    "    'user_features_mapping': lightfm_mapping[1],\n",
    "    'items_mapping': lightfm_mapping[2],\n",
    "    'item_features_mapping': lightfm_mapping[3],\n",
    "}\n",
    "print('users_mapping len - ', len(lightfm_mapping['users_mapping']))\n",
    "print('user_features_mapping len - ', len(lightfm_mapping['user_features_mapping']))\n",
    "print('items_mapping len - ', len(lightfm_mapping['items_mapping']))\n",
    "print('Users item_features_mapping len - ', len(lightfm_mapping['item_features_mapping']))"
   ]
  },
  {
   "cell_type": "code",
   "execution_count": 9,
   "id": "f3e15d39-03bc-42e2-b339-3e353f945e73",
   "metadata": {},
   "outputs": [],
   "source": [
    "lightfm_mapping['users_inv_mapping'] = {v: k for k, v in lightfm_mapping['users_mapping'].items()}\n",
    "lightfm_mapping['items_inv_mapping'] = {v: k for k, v in lightfm_mapping['items_mapping'].items()}"
   ]
  },
  {
   "cell_type": "code",
   "execution_count": 10,
   "id": "8c82c60a-db86-4404-ab44-f12cee4a27e5",
   "metadata": {},
   "outputs": [],
   "source": [
    "def df_to_tuple_iterator(df):\n",
    "    return zip(*df.values.T)\n",
    "\n",
    "def concat_last_to_list(t):\n",
    "    return (t[0], list(t[1:])[0])\n",
    "\n",
    "def df_to_tuple_list_iterator(df):\n",
    "    return map(concat_last_to_list, zip(*df.values.T))"
   ]
  },
  {
   "cell_type": "code",
   "execution_count": 11,
   "id": "629bc084-ad3c-486f-bd55-96be69ce359c",
   "metadata": {},
   "outputs": [],
   "source": [
    "train_idx, test_idx = folds[0]\n",
    "\n",
    "train = df.loc[train_idx]\n",
    "test = df.loc[test_idx]"
   ]
  },
  {
   "cell_type": "code",
   "execution_count": 12,
   "id": "e5cfbeda-f08c-4d9a-b434-be58fda56f04",
   "metadata": {},
   "outputs": [],
   "source": [
    "train_mat, train_mat_weights = dataset.build_interactions(df_to_tuple_iterator(train[['user_id', 'item_id']]))"
   ]
  },
  {
   "cell_type": "code",
   "execution_count": 13,
   "id": "f7235167-2b9e-4a3d-acc0-6be864a30b67",
   "metadata": {},
   "outputs": [],
   "source": [
    "known_users_filter = df_users['user_id'].isin(df['user_id'].unique())\n",
    "train_user_features = dataset.build_user_features(\n",
    "    df_to_tuple_list_iterator(\n",
    "        df_users.loc[known_users_filter, ['user_id', 'features']]\n",
    "    )\n",
    ")"
   ]
  },
  {
   "cell_type": "code",
   "execution_count": 14,
   "id": "21ef4408-2549-454d-ae2c-7fa724d6bb87",
   "metadata": {},
   "outputs": [],
   "source": [
    "known_items_filter = df_items['id'].isin(df['item_id'].unique())\n",
    "train_items_features = dataset.build_item_features(\n",
    "    df_to_tuple_list_iterator(\n",
    "        df_items.loc[known_items_filter, ['id', 'features']]\n",
    "    )\n",
    ")"
   ]
  },
  {
   "cell_type": "code",
   "execution_count": 15,
   "id": "18ae3679-1d65-4b8d-bce6-d00f4b9a983b",
   "metadata": {},
   "outputs": [],
   "source": [
    "lfm_model = LightFM(no_components=64, learning_rate=0.05, loss='warp', max_sampled=5, random_state=23)"
   ]
  },
  {
   "cell_type": "code",
   "execution_count": 16,
   "id": "2a618370-2316-4eef-b880-8b38d4c39ff9",
   "metadata": {},
   "outputs": [
    {
     "name": "stderr",
     "output_type": "stream",
     "text": [
      "100%|████████████████████████████████████████████████████████████████████████████████████████████████████████████████████████████████████████████████████████████| 15/15 [02:53<00:00, 11.54s/it]\n"
     ]
    }
   ],
   "source": [
    "num_epochs = 15\n",
    "for _ in tqdm(range(num_epochs), total=num_epochs):\n",
    "    lfm_model.fit_partial(\n",
    "        train_mat, \n",
    "        user_features=train_user_features,\n",
    "        item_features=train_items_features,\n",
    "        num_threads=4\n",
    "    )"
   ]
  },
  {
   "cell_type": "code",
   "execution_count": 17,
   "id": "31f838be-e0ac-45c4-9e33-e380ceadb45d",
   "metadata": {},
   "outputs": [],
   "source": [
    "recs = pd.DataFrame({\n",
    "    'user_id': test['user_id'].unique()\n",
    "})"
   ]
  },
  {
   "cell_type": "code",
   "execution_count": 18,
   "id": "d54b31ac-f244-446b-8191-dc9b32644423",
   "metadata": {},
   "outputs": [],
   "source": [
    "def generate_lightfm_recs_mapper(model, item_ids, known_items, user_features, item_features, N, user_mapping, item_inv_mapping, num_threads=4):\n",
    "    def _recs_mapper(user):\n",
    "        user_id = user_mapping[user]\n",
    "        recs = model.predict(user_id, item_ids, user_features=user_features, item_features=item_features, num_threads=num_threads)\n",
    "        \n",
    "        additional_N = len(known_items[user_id]) if user_id in known_items else 0\n",
    "        total_N = N + additional_N\n",
    "        top_cols = np.argpartition(recs, -np.arange(total_N))[-total_N:][::-1]\n",
    "        \n",
    "        final_recs = [item_inv_mapping[item] for item in top_cols]\n",
    "        if additional_N > 0:\n",
    "            filter_items = known_items[user_id]\n",
    "            final_recs = [item for item in final_recs if item not in filter_items]\n",
    "        return final_recs[:N]\n",
    "    return _recs_mapper"
   ]
  },
  {
   "cell_type": "code",
   "execution_count": 19,
   "id": "758b2815-203d-49be-af8e-5f173f692a8f",
   "metadata": {},
   "outputs": [
    {
     "data": {
      "text/plain": [
       "25957"
      ]
     },
     "execution_count": 19,
     "metadata": {},
     "output_type": "execute_result"
    }
   ],
   "source": [
    "known_items = train.groupby('user_id')['item_id'].apply(list).to_dict()\n",
    "len(known_items)"
   ]
  },
  {
   "cell_type": "code",
   "execution_count": 23,
   "id": "3a1d97da-2c5a-43c2-8344-7c7a392a9a70",
   "metadata": {},
   "outputs": [
    {
     "data": {
      "text/plain": [
       "14717"
      ]
     },
     "execution_count": 23,
     "metadata": {},
     "output_type": "execute_result"
    }
   ],
   "source": [
    "all_cols = list(lightfm_mapping['items_mapping'].values())\n",
    "len(all_cols)"
   ]
  },
  {
   "cell_type": "code",
   "execution_count": 25,
   "id": "3b8ccf28-ef29-48de-ac47-9c9d9b6eb632",
   "metadata": {},
   "outputs": [],
   "source": [
    "top_N = 10"
   ]
  },
  {
   "cell_type": "code",
   "execution_count": 26,
   "id": "fcd82e30-0672-46d5-86b6-a45008885554",
   "metadata": {},
   "outputs": [],
   "source": [
    "mapper = generate_lightfm_recs_mapper(\n",
    "    lfm_model, \n",
    "    item_ids=all_cols, \n",
    "    known_items=known_items,\n",
    "    N=top_N,\n",
    "    user_features=train_user_features, \n",
    "    item_features=train_items_features, \n",
    "    user_mapping=lightfm_mapping['users_mapping'],\n",
    "    item_inv_mapping=lightfm_mapping['items_inv_mapping'],\n",
    "    num_threads=4\n",
    ")"
   ]
  },
  {
   "cell_type": "code",
   "execution_count": 27,
   "id": "1645321e-8b14-4d18-b37a-40f638f7d105",
   "metadata": {},
   "outputs": [
    {
     "name": "stdout",
     "output_type": "stream",
     "text": [
      "CPU times: user 1min 55s, sys: 363 ms, total: 1min 55s\n",
      "Wall time: 30.5 s\n"
     ]
    }
   ],
   "source": [
    "%%time\n",
    "recs['item_id'] = recs['user_id'].map(mapper)"
   ]
  },
  {
   "cell_type": "code",
   "execution_count": 28,
   "id": "2d5af588-8af2-40c6-83c7-14b9899962e8",
   "metadata": {},
   "outputs": [],
   "source": [
    "recs = recs.explode('item_id')\n",
    "recs['rank'] = recs.groupby('user_id').cumcount() + 1"
   ]
  },
  {
   "cell_type": "code",
   "execution_count": 29,
   "id": "20439a2c-2c3a-4417-a47a-1ade9795c368",
   "metadata": {},
   "outputs": [],
   "source": [
    "def compute_metrics(df_true, df_pred, top_N):\n",
    "    result = {}\n",
    "    test_recs = df_true.set_index(['user_id', 'item_id']).join(df_pred.set_index(['user_id', 'item_id']))\n",
    "    test_recs = test_recs.sort_values(by=['user_id', 'rank'])\n",
    "\n",
    "    test_recs['users_item_count'] = test_recs.groupby(level='user_id')['rank'].transform(np.size)\n",
    "    test_recs['reciprocal_rank'] = (1 / test_recs['rank']).fillna(0)\n",
    "    test_recs['cumulative_rank'] = test_recs.groupby(level='user_id').cumcount() + 1\n",
    "    test_recs['cumulative_rank'] = test_recs['cumulative_rank'] / test_recs['rank']\n",
    "    \n",
    "    users_count = test_recs.index.get_level_values('user_id').nunique()\n",
    "    for k in range(1, top_N + 1):\n",
    "        hit_k = f'hit@{k}'\n",
    "        test_recs[hit_k] = test_recs['rank'] <= k\n",
    "        result[f'Precision@{k}'] = (test_recs[hit_k] / k).sum() / users_count\n",
    "        result[f'Recall@{k}'] = (test_recs[hit_k] / test_recs['users_item_count']).sum() / users_count\n",
    "\n",
    "    result[f'MAP@{top_N}'] = (test_recs[\"cumulative_rank\"] / test_recs[\"users_item_count\"]).sum() / users_count\n",
    "    result[f'MRR'] = test_recs.groupby(level='user_id')['reciprocal_rank'].max().mean()\n",
    "    return pd.Series(result)"
   ]
  },
  {
   "cell_type": "code",
   "execution_count": 30,
   "id": "2e76bdd8-2693-4276-8a18-d571435ff066",
   "metadata": {},
   "outputs": [
    {
     "data": {
      "text/plain": [
       "Precision@1     0.618201\n",
       "Recall@1        0.008341\n",
       "Precision@2     0.569198\n",
       "Recall@2        0.015535\n",
       "Precision@3     0.539400\n",
       "Recall@3        0.020040\n",
       "Precision@4     0.525220\n",
       "Recall@4        0.026048\n",
       "Precision@5     0.522599\n",
       "Recall@5        0.032144\n",
       "Precision@6     0.516724\n",
       "Recall@6        0.036657\n",
       "Precision@7     0.506629\n",
       "Recall@7        0.040107\n",
       "Precision@8     0.498407\n",
       "Recall@8        0.043853\n",
       "Precision@9     0.493747\n",
       "Recall@9        0.047549\n",
       "Precision@10    0.489894\n",
       "Recall@10       0.052057\n",
       "MAP@10          0.032310\n",
       "MRR             0.686656\n",
       "dtype: float64"
      ]
     },
     "execution_count": 30,
     "metadata": {},
     "output_type": "execute_result"
    }
   ],
   "source": [
    "metrics = compute_metrics(test, recs, top_N)"
   ]
  },
  {
   "cell_type": "code",
   "execution_count": 45,
   "id": "9c378078-ada1-4a58-ad74-9f96a7865c9a",
   "metadata": {},
   "outputs": [
    {
     "data": {
      "image/png": "[encoded data removed]",
      "text/plain": [
       "<Figure size 1600x700 with 1 Axes>"
      ]
     },
     "metadata": {},
     "output_type": "display_data"
    }
   ],
   "source": [
    "fig = plt.figure(figsize=(16,7))\n",
    "sns.barplot(metrics, orient=\"y\")\n",
    "plt.show();"
   ]
  }
 ],
 "metadata": {
  "kernelspec": {
   "display_name": "Python 3 (ipykernel)",
   "language": "python",
   "name": "python3"
  },
  "language_info": {
   "codemirror_mode": {
    "name": "ipython",
    "version": 3
   },
   "file_extension": ".py",
   "mimetype": "text/x-python",
   "name": "python",
   "nbconvert_exporter": "python",
   "pygments_lexer": "ipython3",
   "version": "3.10.12"
  }
 },
 "nbformat": 4,
 "nbformat_minor": 5
}
