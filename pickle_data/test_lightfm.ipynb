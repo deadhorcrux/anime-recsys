{
 "cells": [
  {
   "cell_type": "code",
   "execution_count": 1,
   "id": "ea3d3f4a-a5f6-4d1c-b635-6eb1e582748e",
   "metadata": {},
   "outputs": [],
   "source": [
    "import pandas as pd \n",
    "import numpy as np\n",
    "from ast import literal_eval\n",
    "from sklearn.model_selection import KFold\n",
    "from tqdm import tqdm\n",
    "\n",
    "from lightfm.data import Dataset\n",
    "from lightfm import LightFM"
   ]
  },
  {
   "cell_type": "code",
   "execution_count": 2,
   "id": "ac6383cd-6911-4916-b3ba-941bed17c02b",
   "metadata": {},
   "outputs": [],
   "source": [
    "df_items = pd.read_pickle('./test_items.pickle')\n",
    "df = pd.read_pickle('./test_df.pickle')\n",
    "df_users = pd.read_pickle('./test_df_users.pickle')"
   ]
  },
  {
   "cell_type": "code",
   "execution_count": 39,
   "id": "02c38b2b-2b4a-4423-b552-ab77424cfe00",
   "metadata": {},
   "outputs": [
    {
     "data": {
      "text/html": [
       "<div>\n",
       "<style scoped>\n",
       "    .dataframe tbody tr th:only-of-type {\n",
       "        vertical-align: middle;\n",
       "    }\n",
       "\n",
       "    .dataframe tbody tr th {\n",
       "        vertical-align: top;\n",
       "    }\n",
       "\n",
       "    .dataframe thead th {\n",
       "        text-align: right;\n",
       "    }\n",
       "</style>\n",
       "<table border=\"1\" class=\"dataframe\">\n",
       "  <thead>\n",
       "    <tr style=\"text-align: right;\">\n",
       "      <th></th>\n",
       "      <th>id</th>\n",
       "      <th>name</th>\n",
       "      <th>russian</th>\n",
       "      <th>kind</th>\n",
       "      <th>score</th>\n",
       "      <th>aired_on</th>\n",
       "      <th>rating</th>\n",
       "      <th>episodes</th>\n",
       "      <th>fansubbers</th>\n",
       "      <th>fandubbers</th>\n",
       "      <th>genres</th>\n",
       "      <th>wr</th>\n",
       "      <th>features</th>\n",
       "    </tr>\n",
       "  </thead>\n",
       "  <tbody>\n",
       "    <tr>\n",
       "      <th>0</th>\n",
       "      <td>1</td>\n",
       "      <td>Cowboy Bebop</td>\n",
       "      <td>Ковбой Бибоп</td>\n",
       "      <td>tv</td>\n",
       "      <td>8.75</td>\n",
       "      <td>1998-04-03</td>\n",
       "      <td>r_plus</td>\n",
       "      <td>26</td>\n",
       "      <td>Dragon'Drop,Max Skuratov,Сергей Светличный,Suz...</td>\n",
       "      <td>Amazing Dubbing,Е. Лурье,SHIZA Project,SkyFy,D...</td>\n",
       "      <td>Action,Sci-Fi,Space</td>\n",
       "      <td>8.382060</td>\n",
       "      <td>[Action,Sci-Fi,Space, tv]</td>\n",
       "    </tr>\n",
       "    <tr>\n",
       "      <th>1</th>\n",
       "      <td>5</td>\n",
       "      <td>Cowboy Bebop: Tengoku no Tobira</td>\n",
       "      <td>Ковбой Бибоп: Достучаться до небес</td>\n",
       "      <td>movie</td>\n",
       "      <td>8.38</td>\n",
       "      <td>2001-09-01</td>\n",
       "      <td>r_plus</td>\n",
       "      <td>1</td>\n",
       "      <td>А. Лапшин,UR-Goliath,5viN,Faddeich</td>\n",
       "      <td>SHIZA Project,3df voice,ВидеоСервис,НТВ Плюс,R...</td>\n",
       "      <td>Action,Sci-Fi,Space</td>\n",
       "      <td>7.602360</td>\n",
       "      <td>[Action,Sci-Fi,Space, movie]</td>\n",
       "    </tr>\n",
       "    <tr>\n",
       "      <th>2</th>\n",
       "      <td>6</td>\n",
       "      <td>Trigun</td>\n",
       "      <td>Триган</td>\n",
       "      <td>tv</td>\n",
       "      <td>8.22</td>\n",
       "      <td>1998-04-01</td>\n",
       "      <td>pg_13</td>\n",
       "      <td>26</td>\n",
       "      <td>Schtirlitz &amp; Nomad,Мега-Аниме</td>\n",
       "      <td>Digital Force,Мега-Аниме,QTV</td>\n",
       "      <td>Action,Adventure,Sci-Fi,Shounen</td>\n",
       "      <td>7.676009</td>\n",
       "      <td>[Action,Adventure,Sci-Fi,Shounen, tv]</td>\n",
       "    </tr>\n",
       "    <tr>\n",
       "      <th>3</th>\n",
       "      <td>7</td>\n",
       "      <td>Witch Hunter Robin</td>\n",
       "      <td>Робин — охотница на ведьм</td>\n",
       "      <td>tv</td>\n",
       "      <td>7.25</td>\n",
       "      <td>2002-07-03</td>\n",
       "      <td>pg_13</td>\n",
       "      <td>26</td>\n",
       "      <td>Svart</td>\n",
       "      <td>AniDUB,Е. Лурье</td>\n",
       "      <td>Action,Drama,Mystery,Supernatural,Police</td>\n",
       "      <td>6.284465</td>\n",
       "      <td>[Action,Drama,Mystery,Supernatural,Police, tv]</td>\n",
       "    </tr>\n",
       "    <tr>\n",
       "      <th>4</th>\n",
       "      <td>8</td>\n",
       "      <td>Bouken Ou Beet</td>\n",
       "      <td>Приключения короля Бита</td>\n",
       "      <td>tv</td>\n",
       "      <td>6.94</td>\n",
       "      <td>2004-09-30</td>\n",
       "      <td>pg</td>\n",
       "      <td>52</td>\n",
       "      <td></td>\n",
       "      <td>Get Smart Group</td>\n",
       "      <td>Shounen,Adventure,Fantasy,Supernatural</td>\n",
       "      <td>5.935496</td>\n",
       "      <td>[Shounen,Adventure,Fantasy,Supernatural, tv]</td>\n",
       "    </tr>\n",
       "    <tr>\n",
       "      <th>...</th>\n",
       "      <td>...</td>\n",
       "      <td>...</td>\n",
       "      <td>...</td>\n",
       "      <td>...</td>\n",
       "      <td>...</td>\n",
       "      <td>...</td>\n",
       "      <td>...</td>\n",
       "      <td>...</td>\n",
       "      <td>...</td>\n",
       "      <td>...</td>\n",
       "      <td>...</td>\n",
       "      <td>...</td>\n",
       "      <td>...</td>\n",
       "    </tr>\n",
       "    <tr>\n",
       "      <th>9388</th>\n",
       "      <td>25983</td>\n",
       "      <td>Private Eye Dol</td>\n",
       "      <td>Личный айдол</td>\n",
       "      <td>special</td>\n",
       "      <td>0.00</td>\n",
       "      <td>1995-08-12</td>\n",
       "      <td>pg_13</td>\n",
       "      <td>3</td>\n",
       "      <td></td>\n",
       "      <td></td>\n",
       "      <td>Comedy,Mystery</td>\n",
       "      <td>5.912322</td>\n",
       "      <td>[Comedy,Mystery, special]</td>\n",
       "    </tr>\n",
       "    <tr>\n",
       "      <th>9389</th>\n",
       "      <td>25985</td>\n",
       "      <td>Contact</td>\n",
       "      <td>Контакт</td>\n",
       "      <td>special</td>\n",
       "      <td>4.84</td>\n",
       "      <td>2004-06-21</td>\n",
       "      <td>g</td>\n",
       "      <td>1</td>\n",
       "      <td></td>\n",
       "      <td></td>\n",
       "      <td>Kids,Comedy,Sci-Fi</td>\n",
       "      <td>5.912062</td>\n",
       "      <td>[Kids,Comedy,Sci-Fi, special]</td>\n",
       "    </tr>\n",
       "    <tr>\n",
       "      <th>9390</th>\n",
       "      <td>25987</td>\n",
       "      <td>Tensai Bakavon: Yomigaeru Flanders no Inu</td>\n",
       "      <td>Прости нас, Патраш!</td>\n",
       "      <td>movie</td>\n",
       "      <td>0.00</td>\n",
       "      <td>2015-05-23</td>\n",
       "      <td>g</td>\n",
       "      <td>1</td>\n",
       "      <td></td>\n",
       "      <td></td>\n",
       "      <td>Comedy,Parody</td>\n",
       "      <td>5.916128</td>\n",
       "      <td>[Comedy,Parody, movie]</td>\n",
       "    </tr>\n",
       "    <tr>\n",
       "      <th>9391</th>\n",
       "      <td>25991</td>\n",
       "      <td>Bishoujo Mobage: Mobami-chan</td>\n",
       "      <td>Волшебница из мобильной игры — Мобами</td>\n",
       "      <td>ona</td>\n",
       "      <td>5.35</td>\n",
       "      <td>2014-08-14</td>\n",
       "      <td>pg_13</td>\n",
       "      <td>1</td>\n",
       "      <td></td>\n",
       "      <td></td>\n",
       "      <td>Game,Music</td>\n",
       "      <td>5.907781</td>\n",
       "      <td>[Game,Music, ona]</td>\n",
       "    </tr>\n",
       "    <tr>\n",
       "      <th>9392</th>\n",
       "      <td>25999</td>\n",
       "      <td>Minna Atsumare! Falcom Gakuen SC</td>\n",
       "      <td>Полный сбор! Академия Фальком 2</td>\n",
       "      <td>tv</td>\n",
       "      <td>6.04</td>\n",
       "      <td>2015-01-04</td>\n",
       "      <td>pg_13</td>\n",
       "      <td>12</td>\n",
       "      <td></td>\n",
       "      <td></td>\n",
       "      <td>Seinen,Comedy,Parody,School</td>\n",
       "      <td>5.919131</td>\n",
       "      <td>[Seinen,Comedy,Parody,School, tv]</td>\n",
       "    </tr>\n",
       "  </tbody>\n",
       "</table>\n",
       "<p>9393 rows × 13 columns</p>\n",
       "</div>"
      ],
      "text/plain": [
       "         id                                       name  \\\n",
       "0         1                               Cowboy Bebop   \n",
       "1         5            Cowboy Bebop: Tengoku no Tobira   \n",
       "2         6                                     Trigun   \n",
       "3         7                         Witch Hunter Robin   \n",
       "4         8                             Bouken Ou Beet   \n",
       "...     ...                                        ...   \n",
       "9388  25983                            Private Eye Dol   \n",
       "9389  25985                                    Contact   \n",
       "9390  25987  Tensai Bakavon: Yomigaeru Flanders no Inu   \n",
       "9391  25991               Bishoujo Mobage: Mobami-chan   \n",
       "9392  25999           Minna Atsumare! Falcom Gakuen SC   \n",
       "\n",
       "                                    russian     kind  score    aired_on  \\\n",
       "0                              Ковбой Бибоп       tv   8.75  1998-04-03   \n",
       "1        Ковбой Бибоп: Достучаться до небес    movie   8.38  2001-09-01   \n",
       "2                                    Триган       tv   8.22  1998-04-01   \n",
       "3                 Робин — охотница на ведьм       tv   7.25  2002-07-03   \n",
       "4                   Приключения короля Бита       tv   6.94  2004-09-30   \n",
       "...                                     ...      ...    ...         ...   \n",
       "9388                           Личный айдол  special   0.00  1995-08-12   \n",
       "9389                                Контакт  special   4.84  2004-06-21   \n",
       "9390                    Прости нас, Патраш!    movie   0.00  2015-05-23   \n",
       "9391  Волшебница из мобильной игры — Мобами      ona   5.35  2014-08-14   \n",
       "9392        Полный сбор! Академия Фальком 2       tv   6.04  2015-01-04   \n",
       "\n",
       "      rating  episodes                                         fansubbers  \\\n",
       "0     r_plus        26  Dragon'Drop,Max Skuratov,Сергей Светличный,Suz...   \n",
       "1     r_plus         1                 А. Лапшин,UR-Goliath,5viN,Faddeich   \n",
       "2      pg_13        26                      Schtirlitz & Nomad,Мега-Аниме   \n",
       "3      pg_13        26                                              Svart   \n",
       "4         pg        52                                                      \n",
       "...      ...       ...                                                ...   \n",
       "9388   pg_13         3                                                      \n",
       "9389       g         1                                                      \n",
       "9390       g         1                                                      \n",
       "9391   pg_13         1                                                      \n",
       "9392   pg_13        12                                                      \n",
       "\n",
       "                                             fandubbers  \\\n",
       "0     Amazing Dubbing,Е. Лурье,SHIZA Project,SkyFy,D...   \n",
       "1     SHIZA Project,3df voice,ВидеоСервис,НТВ Плюс,R...   \n",
       "2                          Digital Force,Мега-Аниме,QTV   \n",
       "3                                       AniDUB,Е. Лурье   \n",
       "4                                       Get Smart Group   \n",
       "...                                                 ...   \n",
       "9388                                                      \n",
       "9389                                                      \n",
       "9390                                                      \n",
       "9391                                                      \n",
       "9392                                                      \n",
       "\n",
       "                                        genres        wr  \\\n",
       "0                          Action,Sci-Fi,Space  8.382060   \n",
       "1                          Action,Sci-Fi,Space  7.602360   \n",
       "2              Action,Adventure,Sci-Fi,Shounen  7.676009   \n",
       "3     Action,Drama,Mystery,Supernatural,Police  6.284465   \n",
       "4       Shounen,Adventure,Fantasy,Supernatural  5.935496   \n",
       "...                                        ...       ...   \n",
       "9388                            Comedy,Mystery  5.912322   \n",
       "9389                        Kids,Comedy,Sci-Fi  5.912062   \n",
       "9390                             Comedy,Parody  5.916128   \n",
       "9391                                Game,Music  5.907781   \n",
       "9392               Seinen,Comedy,Parody,School  5.919131   \n",
       "\n",
       "                                            features  \n",
       "0                          [Action,Sci-Fi,Space, tv]  \n",
       "1                       [Action,Sci-Fi,Space, movie]  \n",
       "2              [Action,Adventure,Sci-Fi,Shounen, tv]  \n",
       "3     [Action,Drama,Mystery,Supernatural,Police, tv]  \n",
       "4       [Shounen,Adventure,Fantasy,Supernatural, tv]  \n",
       "...                                              ...  \n",
       "9388                       [Comedy,Mystery, special]  \n",
       "9389                   [Kids,Comedy,Sci-Fi, special]  \n",
       "9390                          [Comedy,Parody, movie]  \n",
       "9391                               [Game,Music, ona]  \n",
       "9392               [Seinen,Comedy,Parody,School, tv]  \n",
       "\n",
       "[9393 rows x 13 columns]"
      ]
     },
     "execution_count": 39,
     "metadata": {},
     "output_type": "execute_result"
    }
   ],
   "source": [
    "df_items"
   ]
  },
  {
   "cell_type": "code",
   "execution_count": 3,
   "id": "05d26a2a-8fcc-4e6a-982e-4d220c0d5c29",
   "metadata": {},
   "outputs": [],
   "source": [
    "dataset = Dataset()\n",
    "dataset.fit(df['user_id'].unique(), df['item_id'].unique())"
   ]
  },
  {
   "cell_type": "code",
   "execution_count": 4,
   "id": "b9605dfd-3e9d-47bf-976b-b71a4b0423bd",
   "metadata": {},
   "outputs": [
    {
     "data": {
      "text/plain": [
       "array(['Action,Sci-Fi,Space', 'Action,Adventure,Sci-Fi,Shounen',\n",
       "       'Action,Drama,Mystery,Supernatural,Police', ..., 'ona', 'music',\n",
       "       nan], dtype=object)"
      ]
     },
     "execution_count": 4,
     "metadata": {},
     "output_type": "execute_result"
    }
   ],
   "source": [
    "genres = df_items['genres'].unique()\n",
    "kind = df_items['kind'].unique()\n",
    "item_features = np.append(genres, kind)\n",
    "item_features"
   ]
  },
  {
   "cell_type": "code",
   "execution_count": 5,
   "id": "9a35bd92-60b1-4e25-b7b5-bbba796f69f8",
   "metadata": {},
   "outputs": [
    {
     "data": {
      "text/plain": [
       "array(['age_unknown', '26_29', '6_24', '29_35', '24_26', 'male', 'nan',\n",
       "       'female'], dtype=object)"
      ]
     },
     "execution_count": 5,
     "metadata": {},
     "output_type": "execute_result"
    }
   ],
   "source": [
    "age = df_users['age'].unique()\n",
    "sex = df_users['sex'].unique()\n",
    "user_features = np.append(age, sex)\n",
    "user_features"
   ]
  },
  {
   "cell_type": "code",
   "execution_count": 41,
   "id": "00d3fb8e-06d3-4599-8f1b-0780c033584a",
   "metadata": {},
   "outputs": [
    {
     "data": {
      "text/plain": [
       "array(['age_unknown', '26_29', '6_24', '29_35', '24_26', 'male', 'nan',\n",
       "       'female'], dtype=object)"
      ]
     },
     "execution_count": 41,
     "metadata": {},
     "output_type": "execute_result"
    }
   ],
   "source": [
    "user_features"
   ]
  },
  {
   "cell_type": "code",
   "execution_count": 42,
   "id": "11673d2b-24f9-47a5-8a20-ceeb58bd92d0",
   "metadata": {},
   "outputs": [
    {
     "data": {
      "text/plain": [
       "array(['Action,Sci-Fi,Space', 'Action,Adventure,Sci-Fi,Shounen',\n",
       "       'Action,Drama,Mystery,Supernatural,Police', ..., 'ona', 'music',\n",
       "       nan], dtype=object)"
      ]
     },
     "execution_count": 42,
     "metadata": {},
     "output_type": "execute_result"
    }
   ],
   "source": [
    "item_features"
   ]
  },
  {
   "cell_type": "code",
   "execution_count": 6,
   "id": "531836cb-54de-4954-9061-af8ee3031464",
   "metadata": {},
   "outputs": [],
   "source": [
    "df_users['features'] = df_users[['age', 'sex']].astype(str).apply(lambda x: list(x), axis=1)"
   ]
  },
  {
   "cell_type": "code",
   "execution_count": 7,
   "id": "25b5fcd2-a67f-4b6c-a318-6a18a0d4e9bf",
   "metadata": {},
   "outputs": [],
   "source": [
    "df_items['features'] = df_items[['genres', 'kind']].astype(str).apply(lambda x: list(x), axis=1)"
   ]
  },
  {
   "cell_type": "code",
   "execution_count": 8,
   "id": "07d8b4f4-867d-4be8-9536-24423b1a39ce",
   "metadata": {},
   "outputs": [],
   "source": [
    "dataset.fit_partial(user_features=user_features)\n",
    "dataset.fit_partial(item_features=item_features)"
   ]
  },
  {
   "cell_type": "code",
   "execution_count": 9,
   "id": "f8e98c73-5ce3-4aed-b2bf-b55b68da3433",
   "metadata": {},
   "outputs": [
    {
     "data": {
      "text/plain": [
       "(207, 5720)"
      ]
     },
     "execution_count": 9,
     "metadata": {},
     "output_type": "execute_result"
    }
   ],
   "source": [
    "num_users, num_items = dataset.interactions_shape()\n",
    "num_users, num_items"
   ]
  },
  {
   "cell_type": "code",
   "execution_count": 10,
   "id": "ba29e3e7-fbe6-4c8e-acfa-8b725138ca0d",
   "metadata": {},
   "outputs": [
    {
     "name": "stdout",
     "output_type": "stream",
     "text": [
      "users_mapping len -  207\n",
      "user_features_mapping len -  215\n",
      "items_mapping len -  5720\n",
      "Users item_features_mapping len -  8582\n"
     ]
    }
   ],
   "source": [
    "lightfm_mapping = dataset.mapping()\n",
    "lightfm_mapping = {\n",
    "    'users_mapping': lightfm_mapping[0],\n",
    "    'user_features_mapping': lightfm_mapping[1],\n",
    "    'items_mapping': lightfm_mapping[2],\n",
    "    'item_features_mapping': lightfm_mapping[3],\n",
    "}\n",
    "print('users_mapping len - ', len(lightfm_mapping['users_mapping']))\n",
    "print('user_features_mapping len - ', len(lightfm_mapping['user_features_mapping']))\n",
    "print('items_mapping len - ', len(lightfm_mapping['items_mapping']))\n",
    "print('Users item_features_mapping len - ', len(lightfm_mapping['item_features_mapping']))"
   ]
  },
  {
   "cell_type": "code",
   "execution_count": 11,
   "id": "0d3a2f42-35c4-474f-9766-4dc1a8cb9900",
   "metadata": {},
   "outputs": [],
   "source": [
    "lightfm_mapping['users_inv_mapping'] = {v: k for k, v in lightfm_mapping['users_mapping'].items()}\n",
    "lightfm_mapping['items_inv_mapping'] = {v: k for k, v in lightfm_mapping['items_mapping'].items()}"
   ]
  },
  {
   "cell_type": "code",
   "execution_count": 12,
   "id": "ebd32947-6ec4-4de2-9c53-650f1e5867f1",
   "metadata": {},
   "outputs": [
    {
     "name": "stdout",
     "output_type": "stream",
     "text": [
      "Num user features: 8 -> 215\n",
      "num item features: 2862 -> 8582.\n"
     ]
    }
   ],
   "source": [
    "num_user_features = dataset.user_features_shape()\n",
    "num_show_features = dataset.item_features_shape()\n",
    "print('Num user features: {} -> {}\\nnum item features: {} -> {}.'.format(\n",
    "    num_user_features[1] - num_users, num_user_features[1], \n",
    "    num_show_features[1] - num_items, num_show_features[1]))"
   ]
  },
  {
   "cell_type": "code",
   "execution_count": 13,
   "id": "ef7fd710-a7b6-402c-bf03-73ca603f56af",
   "metadata": {},
   "outputs": [],
   "source": [
    "def df_to_tuple_iterator(df):\n",
    "    return zip(*df.values.T)\n",
    "\n",
    "def concat_last_to_list(t):\n",
    "    return (t[0], list(t[1:])[0])\n",
    "\n",
    "def df_to_tuple_list_iterator(df):\n",
    "    return map(concat_last_to_list, zip(*df.values.T))"
   ]
  },
  {
   "cell_type": "code",
   "execution_count": 14,
   "id": "147846e8-d89b-4c37-a26e-31a1f239be68",
   "metadata": {},
   "outputs": [
    {
     "data": {
      "text/plain": [
       "<207x5720 sparse matrix of type '<class 'numpy.int32'>'\n",
       "\twith 50078 stored elements in COOrdinate format>"
      ]
     },
     "execution_count": 14,
     "metadata": {},
     "output_type": "execute_result"
    }
   ],
   "source": [
    "train_mat, train_mat_weights = dataset.build_interactions(df_to_tuple_iterator(df[['user_id', 'item_id']]))\n",
    "train_mat"
   ]
  },
  {
   "cell_type": "code",
   "execution_count": 15,
   "id": "1de57a2b-cd22-4762-b684-398c5d5b9439",
   "metadata": {},
   "outputs": [
    {
     "data": {
      "text/plain": [
       "<207x215 sparse matrix of type '<class 'numpy.float32'>'\n",
       "\twith 611 stored elements in Compressed Sparse Row format>"
      ]
     },
     "execution_count": 15,
     "metadata": {},
     "output_type": "execute_result"
    }
   ],
   "source": [
    "known_users_filter = df_users['user_id'].isin(df['user_id'].unique())\n",
    "train_user_features = dataset.build_user_features(\n",
    "    df_to_tuple_list_iterator(\n",
    "        df_users.loc[known_users_filter, ['user_id', 'features']]\n",
    "    )\n",
    ")\n",
    "train_user_features"
   ]
  },
  {
   "cell_type": "code",
   "execution_count": 16,
   "id": "d8864dd4-4238-43c9-bba4-2aa04f1d135b",
   "metadata": {},
   "outputs": [
    {
     "data": {
      "text/plain": [
       "<5720x8582 sparse matrix of type '<class 'numpy.float32'>'\n",
       "\twith 14556 stored elements in Compressed Sparse Row format>"
      ]
     },
     "execution_count": 16,
     "metadata": {},
     "output_type": "execute_result"
    }
   ],
   "source": [
    "known_items_filter = df_items['id'].isin(df['item_id'].unique())\n",
    "train_items_features = dataset.build_item_features(\n",
    "    df_to_tuple_list_iterator(\n",
    "        df_items.loc[known_items_filter, ['id', 'features']]\n",
    "    )\n",
    ")\n",
    "train_items_features"
   ]
  },
  {
   "cell_type": "code",
   "execution_count": 17,
   "id": "0b5f5574-3479-4213-b5ab-58b2eb437666",
   "metadata": {},
   "outputs": [],
   "source": [
    "lfm_model = LightFM(no_components=64, learning_rate=0.05, loss='warp', random_state=23)"
   ]
  },
  {
   "cell_type": "code",
   "execution_count": 18,
   "id": "13a96baf-f3a5-48ee-bcbe-7fde6b7a91eb",
   "metadata": {},
   "outputs": [
    {
     "name": "stderr",
     "output_type": "stream",
     "text": [
      "100%|████████████████████████████████████████████████████████████████████████████████████████████████████████████████████████████████████████████████████████████| 15/15 [00:03<00:00,  4.05it/s]\n"
     ]
    }
   ],
   "source": [
    "num_epochs = 15\n",
    "for _ in tqdm(range(num_epochs), total=num_epochs):\n",
    "    lfm_model.fit_partial(\n",
    "        train_mat, \n",
    "        user_features=train_user_features,\n",
    "        item_features=train_items_features,\n",
    "        num_threads=4\n",
    "    )"
   ]
  },
  {
   "cell_type": "code",
   "execution_count": 19,
   "id": "0079dc73-693e-4ff8-b213-91cd8dc32545",
   "metadata": {},
   "outputs": [
    {
     "data": {
      "text/plain": [
       "5720"
      ]
     },
     "execution_count": 19,
     "metadata": {},
     "output_type": "execute_result"
    }
   ],
   "source": [
    "all_cols = list(lightfm_mapping['items_mapping'].values())\n",
    "len(all_cols)"
   ]
  },
  {
   "cell_type": "code",
   "execution_count": 20,
   "id": "7969f023-a9cf-47c7-9880-0d81fd300d48",
   "metadata": {},
   "outputs": [
    {
     "name": "stdout",
     "output_type": "stream",
     "text": [
      "Рекомендации для пользователя 1, номер строки - 0\n"
     ]
    }
   ],
   "source": [
    "top_N = 10\n",
    "user_id = df['user_id'].iloc[0]\n",
    "row_id = lightfm_mapping['users_mapping'][user_id]\n",
    "print(f'Рекомендации для пользователя {user_id}, номер строки - {row_id}')"
   ]
  },
  {
   "cell_type": "code",
   "execution_count": 21,
   "id": "aa3071db-f714-43c4-9f46-8a665ee965ef",
   "metadata": {},
   "outputs": [
    {
     "data": {
      "text/plain": [
       "(array([-27.947248, -27.71055 , -28.320185, ..., -34.127213, -34.68726 ,\n",
       "        -33.90762 ], dtype=float32),\n",
       " (5720,))"
      ]
     },
     "execution_count": 21,
     "metadata": {},
     "output_type": "execute_result"
    }
   ],
   "source": [
    "pred = lfm_model.predict(row_id, all_cols, user_features=train_user_features, item_features=train_items_features, num_threads=4)\n",
    "pred, pred.shape"
   ]
  },
  {
   "cell_type": "code",
   "execution_count": 22,
   "id": "5da8d860-bd0e-4d83-b887-b7d5f8763267",
   "metadata": {},
   "outputs": [
    {
     "data": {
      "text/plain": [
       "array([113, 139, 243,  55, 132, 168, 312, 178, 200, 148])"
      ]
     },
     "execution_count": 22,
     "metadata": {},
     "output_type": "execute_result"
    }
   ],
   "source": [
    "top_cols = np.argpartition(pred, -np.arange(top_N))[-top_N:][::-1]\n",
    "top_cols"
   ]
  },
  {
   "cell_type": "code",
   "execution_count": 23,
   "id": "c116537b-7f73-415a-8477-8dead1863597",
   "metadata": {},
   "outputs": [
    {
     "data": {
      "text/plain": [
       "array([-24.440556, -24.522242, -24.555445, -24.771917, -24.8423  ,\n",
       "       -25.076168, -25.079773, -25.142256, -25.16427 , -25.259272],\n",
       "      dtype=float32)"
      ]
     },
     "execution_count": 23,
     "metadata": {},
     "output_type": "execute_result"
    }
   ],
   "source": [
    "pred[top_cols]"
   ]
  },
  {
   "cell_type": "code",
   "execution_count": 24,
   "id": "91969ec5-3987-42e8-ad37-c63294ac8f44",
   "metadata": {},
   "outputs": [
    {
     "data": {
      "text/plain": [
       "-24.440556"
      ]
     },
     "execution_count": 24,
     "metadata": {},
     "output_type": "execute_result"
    }
   ],
   "source": [
    "np.max(pred)"
   ]
  },
  {
   "cell_type": "code",
   "execution_count": 25,
   "id": "2007f190-59a0-4b37-a201-d8b28a0951ec",
   "metadata": {},
   "outputs": [],
   "source": [
    "#items = pd.read_csv('./test.csv', names=['id', 'name', 'russian', 'score', 'aired', 'duration', 'genres', 'rates'])\n",
    "item_titles = pd.Series(df_items['name'].values, index=df_items['id']).to_dict()"
   ]
  },
  {
   "cell_type": "code",
   "execution_count": 26,
   "id": "e7dae247-aa1c-4907-b51f-aa0fdf79d91f",
   "metadata": {},
   "outputs": [
    {
     "data": {
      "text/html": [
       "<div>\n",
       "<style scoped>\n",
       "    .dataframe tbody tr th:only-of-type {\n",
       "        vertical-align: middle;\n",
       "    }\n",
       "\n",
       "    .dataframe tbody tr th {\n",
       "        vertical-align: top;\n",
       "    }\n",
       "\n",
       "    .dataframe thead th {\n",
       "        text-align: right;\n",
       "    }\n",
       "</style>\n",
       "<table border=\"1\" class=\"dataframe\">\n",
       "  <thead>\n",
       "    <tr style=\"text-align: right;\">\n",
       "      <th></th>\n",
       "      <th>col_id</th>\n",
       "      <th>item_id</th>\n",
       "      <th>title</th>\n",
       "    </tr>\n",
       "  </thead>\n",
       "  <tbody>\n",
       "    <tr>\n",
       "      <th>0</th>\n",
       "      <td>113</td>\n",
       "      <td>849</td>\n",
       "      <td>Suzumiya Haruhi no Yuuutsu</td>\n",
       "    </tr>\n",
       "    <tr>\n",
       "      <th>1</th>\n",
       "      <td>139</td>\n",
       "      <td>1535</td>\n",
       "      <td>Death Note</td>\n",
       "    </tr>\n",
       "    <tr>\n",
       "      <th>2</th>\n",
       "      <td>243</td>\n",
       "      <td>4224</td>\n",
       "      <td>Toradora!</td>\n",
       "    </tr>\n",
       "    <tr>\n",
       "      <th>3</th>\n",
       "      <td>55</td>\n",
       "      <td>245</td>\n",
       "      <td>Great Teacher Onizuka</td>\n",
       "    </tr>\n",
       "    <tr>\n",
       "      <th>4</th>\n",
       "      <td>132</td>\n",
       "      <td>1195</td>\n",
       "      <td>Zero no Tsukaima</td>\n",
       "    </tr>\n",
       "    <tr>\n",
       "      <th>5</th>\n",
       "      <td>168</td>\n",
       "      <td>2025</td>\n",
       "      <td>Darker than Black: Kuro no Keiyakusha</td>\n",
       "    </tr>\n",
       "    <tr>\n",
       "      <th>6</th>\n",
       "      <td>312</td>\n",
       "      <td>6547</td>\n",
       "      <td>Angel Beats!</td>\n",
       "    </tr>\n",
       "    <tr>\n",
       "      <th>7</th>\n",
       "      <td>178</td>\n",
       "      <td>2167</td>\n",
       "      <td>Clannad</td>\n",
       "    </tr>\n",
       "    <tr>\n",
       "      <th>8</th>\n",
       "      <td>200</td>\n",
       "      <td>2966</td>\n",
       "      <td>Ookami to Koushinryou</td>\n",
       "    </tr>\n",
       "    <tr>\n",
       "      <th>9</th>\n",
       "      <td>148</td>\n",
       "      <td>1575</td>\n",
       "      <td>Code Geass: Hangyaku no Lelouch</td>\n",
       "    </tr>\n",
       "  </tbody>\n",
       "</table>\n",
       "</div>"
      ],
      "text/plain": [
       "   col_id  item_id                                  title\n",
       "0     113      849             Suzumiya Haruhi no Yuuutsu\n",
       "1     139     1535                             Death Note\n",
       "2     243     4224                              Toradora!\n",
       "3      55      245                  Great Teacher Onizuka\n",
       "4     132     1195                       Zero no Tsukaima\n",
       "5     168     2025  Darker than Black: Kuro no Keiyakusha\n",
       "6     312     6547                           Angel Beats!\n",
       "7     178     2167                                Clannad\n",
       "8     200     2966                  Ookami to Koushinryou\n",
       "9     148     1575        Code Geass: Hangyaku no Lelouch"
      ]
     },
     "execution_count": 26,
     "metadata": {},
     "output_type": "execute_result"
    }
   ],
   "source": [
    "recs = pd.DataFrame({'col_id': top_cols})\n",
    "recs['item_id'] = recs['col_id'].map(lightfm_mapping['items_inv_mapping'].get)\n",
    "recs['title'] = recs['item_id'].map(item_titles.get)\n",
    "recs"
   ]
  },
  {
   "cell_type": "code",
   "execution_count": 27,
   "id": "5651db4b-b9a1-4f97-aa1c-d76101e6bc88",
   "metadata": {},
   "outputs": [],
   "source": [
    "def generate_lightfm_recs_mapper(model, item_ids, known_items, user_features, item_features, N, user_mapping, item_inv_mapping, num_threads=4):\n",
    "    def _recs_mapper(user):\n",
    "        user_id = user_mapping[user]\n",
    "        recs = model.predict(user_id, item_ids, user_features=user_features, item_features=item_features, num_threads=num_threads)\n",
    "        \n",
    "        additional_N = len(known_items[user_id]) if user_id in known_items else 0\n",
    "        total_N = N + additional_N\n",
    "        top_cols = np.argpartition(recs, -np.arange(total_N))[-total_N:][::-1]\n",
    "        \n",
    "        final_recs = [item_inv_mapping[item] for item in top_cols]\n",
    "        if additional_N > 0:\n",
    "            filter_items = known_items[user_id]\n",
    "            final_recs = [item for item in final_recs if item not in filter_items]\n",
    "        return final_recs[:N]\n",
    "    return _recs_mapper"
   ]
  },
  {
   "cell_type": "code",
   "execution_count": 28,
   "id": "46f53754-5659-4e65-9575-eb322db0f3cc",
   "metadata": {},
   "outputs": [
    {
     "data": {
      "text/plain": [
       "207"
      ]
     },
     "execution_count": 28,
     "metadata": {},
     "output_type": "execute_result"
    }
   ],
   "source": [
    "known_items = df.groupby('user_id')['item_id'].apply(list).to_dict()\n",
    "len(known_items)"
   ]
  },
  {
   "cell_type": "code",
   "execution_count": 29,
   "id": "4ee6127c-1d36-4083-b674-77b4b77fe489",
   "metadata": {},
   "outputs": [],
   "source": [
    "mapper = generate_lightfm_recs_mapper(\n",
    "    lfm_model, \n",
    "    item_ids=all_cols, \n",
    "    known_items=known_items,\n",
    "    N=top_N,\n",
    "    user_features=train_user_features, \n",
    "    item_features=train_items_features, \n",
    "    user_mapping=lightfm_mapping['users_mapping'],\n",
    "    item_inv_mapping=lightfm_mapping['items_inv_mapping'],\n",
    "    num_threads=4\n",
    ")"
   ]
  },
  {
   "cell_type": "code",
   "execution_count": 30,
   "id": "52515297-e8bd-4012-9a4a-a93d1647062c",
   "metadata": {},
   "outputs": [],
   "source": [
    "recs = pd.DataFrame({\n",
    "    'user_id': df['user_id'].unique()\n",
    "})"
   ]
  },
  {
   "cell_type": "code",
   "execution_count": 31,
   "id": "92e6bd49-894b-4a8f-9504-2a1a9000457f",
   "metadata": {},
   "outputs": [
    {
     "name": "stdout",
     "output_type": "stream",
     "text": [
      "CPU times: user 2.62 s, sys: 7.48 ms, total: 2.63 s\n",
      "Wall time: 907 ms\n"
     ]
    }
   ],
   "source": [
    "%%time\n",
    "recs['item_id'] = recs['user_id'].map(mapper)"
   ]
  },
  {
   "cell_type": "code",
   "execution_count": 32,
   "id": "a5d2110a-7234-45c0-ae8c-44dc287e22e7",
   "metadata": {},
   "outputs": [],
   "source": [
    "recs = recs.explode('item_id')\n",
    "recs['rank'] = recs.groupby('user_id').cumcount() + 1"
   ]
  },
  {
   "cell_type": "code",
   "execution_count": 33,
   "id": "7d19f0ef-1017-4e34-a7c1-2e7df6ddf56c",
   "metadata": {},
   "outputs": [],
   "source": [
    "recs['title'] = recs['item_id'].map(item_titles.get)"
   ]
  },
  {
   "cell_type": "code",
   "execution_count": 34,
   "id": "971a8bfe",
   "metadata": {},
   "outputs": [
    {
     "data": {
      "text/html": [
       "<div>\n",
       "<style scoped>\n",
       "    .dataframe tbody tr th:only-of-type {\n",
       "        vertical-align: middle;\n",
       "    }\n",
       "\n",
       "    .dataframe tbody tr th {\n",
       "        vertical-align: top;\n",
       "    }\n",
       "\n",
       "    .dataframe thead th {\n",
       "        text-align: right;\n",
       "    }\n",
       "</style>\n",
       "<table border=\"1\" class=\"dataframe\">\n",
       "  <thead>\n",
       "    <tr style=\"text-align: right;\">\n",
       "      <th></th>\n",
       "      <th>user_id</th>\n",
       "      <th>item_id</th>\n",
       "      <th>rank</th>\n",
       "      <th>title</th>\n",
       "    </tr>\n",
       "  </thead>\n",
       "  <tbody>\n",
       "    <tr>\n",
       "      <th>0</th>\n",
       "      <td>1</td>\n",
       "      <td>849</td>\n",
       "      <td>1</td>\n",
       "      <td>Suzumiya Haruhi no Yuuutsu</td>\n",
       "    </tr>\n",
       "    <tr>\n",
       "      <th>0</th>\n",
       "      <td>1</td>\n",
       "      <td>1535</td>\n",
       "      <td>2</td>\n",
       "      <td>Death Note</td>\n",
       "    </tr>\n",
       "    <tr>\n",
       "      <th>0</th>\n",
       "      <td>1</td>\n",
       "      <td>4224</td>\n",
       "      <td>3</td>\n",
       "      <td>Toradora!</td>\n",
       "    </tr>\n",
       "    <tr>\n",
       "      <th>0</th>\n",
       "      <td>1</td>\n",
       "      <td>245</td>\n",
       "      <td>4</td>\n",
       "      <td>Great Teacher Onizuka</td>\n",
       "    </tr>\n",
       "    <tr>\n",
       "      <th>0</th>\n",
       "      <td>1</td>\n",
       "      <td>1195</td>\n",
       "      <td>5</td>\n",
       "      <td>Zero no Tsukaima</td>\n",
       "    </tr>\n",
       "    <tr>\n",
       "      <th>...</th>\n",
       "      <td>...</td>\n",
       "      <td>...</td>\n",
       "      <td>...</td>\n",
       "      <td>...</td>\n",
       "    </tr>\n",
       "    <tr>\n",
       "      <th>206</th>\n",
       "      <td>250056</td>\n",
       "      <td>11757</td>\n",
       "      <td>6</td>\n",
       "      <td>Sword Art Online</td>\n",
       "    </tr>\n",
       "    <tr>\n",
       "      <th>206</th>\n",
       "      <td>250056</td>\n",
       "      <td>29803</td>\n",
       "      <td>7</td>\n",
       "      <td>None</td>\n",
       "    </tr>\n",
       "    <tr>\n",
       "      <th>206</th>\n",
       "      <td>250056</td>\n",
       "      <td>29786</td>\n",
       "      <td>8</td>\n",
       "      <td>None</td>\n",
       "    </tr>\n",
       "    <tr>\n",
       "      <th>206</th>\n",
       "      <td>250056</td>\n",
       "      <td>32937</td>\n",
       "      <td>9</td>\n",
       "      <td>None</td>\n",
       "    </tr>\n",
       "    <tr>\n",
       "      <th>206</th>\n",
       "      <td>250056</td>\n",
       "      <td>28171</td>\n",
       "      <td>10</td>\n",
       "      <td>None</td>\n",
       "    </tr>\n",
       "  </tbody>\n",
       "</table>\n",
       "<p>2070 rows × 4 columns</p>\n",
       "</div>"
      ],
      "text/plain": [
       "     user_id item_id  rank                       title\n",
       "0          1     849     1  Suzumiya Haruhi no Yuuutsu\n",
       "0          1    1535     2                  Death Note\n",
       "0          1    4224     3                   Toradora!\n",
       "0          1     245     4       Great Teacher Onizuka\n",
       "0          1    1195     5            Zero no Tsukaima\n",
       "..       ...     ...   ...                         ...\n",
       "206   250056   11757     6            Sword Art Online\n",
       "206   250056   29803     7                        None\n",
       "206   250056   29786     8                        None\n",
       "206   250056   32937     9                        None\n",
       "206   250056   28171    10                        None\n",
       "\n",
       "[2070 rows x 4 columns]"
      ]
     },
     "execution_count": 34,
     "metadata": {},
     "output_type": "execute_result"
    }
   ],
   "source": [
    "recs"
   ]
  },
  {
   "cell_type": "code",
   "execution_count": 35,
   "id": "eac58ec6-ff49-464e-a189-ca3eacb9b78f",
   "metadata": {},
   "outputs": [],
   "source": [
    "demid_recs = recs.tail(10)"
   ]
  },
  {
   "cell_type": "code",
   "execution_count": 36,
   "id": "68c6b6d8",
   "metadata": {},
   "outputs": [
    {
     "data": {
      "text/html": [
       "<div>\n",
       "<style scoped>\n",
       "    .dataframe tbody tr th:only-of-type {\n",
       "        vertical-align: middle;\n",
       "    }\n",
       "\n",
       "    .dataframe tbody tr th {\n",
       "        vertical-align: top;\n",
       "    }\n",
       "\n",
       "    .dataframe thead th {\n",
       "        text-align: right;\n",
       "    }\n",
       "</style>\n",
       "<table border=\"1\" class=\"dataframe\">\n",
       "  <thead>\n",
       "    <tr style=\"text-align: right;\">\n",
       "      <th></th>\n",
       "      <th>user_id</th>\n",
       "      <th>item_id</th>\n",
       "      <th>rank</th>\n",
       "      <th>title</th>\n",
       "    </tr>\n",
       "  </thead>\n",
       "  <tbody>\n",
       "    <tr>\n",
       "      <th>206</th>\n",
       "      <td>250056</td>\n",
       "      <td>31240</td>\n",
       "      <td>1</td>\n",
       "      <td>None</td>\n",
       "    </tr>\n",
       "    <tr>\n",
       "      <th>206</th>\n",
       "      <td>250056</td>\n",
       "      <td>28121</td>\n",
       "      <td>2</td>\n",
       "      <td>None</td>\n",
       "    </tr>\n",
       "    <tr>\n",
       "      <th>206</th>\n",
       "      <td>250056</td>\n",
       "      <td>30831</td>\n",
       "      <td>3</td>\n",
       "      <td>None</td>\n",
       "    </tr>\n",
       "    <tr>\n",
       "      <th>206</th>\n",
       "      <td>250056</td>\n",
       "      <td>31043</td>\n",
       "      <td>4</td>\n",
       "      <td>None</td>\n",
       "    </tr>\n",
       "    <tr>\n",
       "      <th>206</th>\n",
       "      <td>250056</td>\n",
       "      <td>26243</td>\n",
       "      <td>5</td>\n",
       "      <td>None</td>\n",
       "    </tr>\n",
       "    <tr>\n",
       "      <th>206</th>\n",
       "      <td>250056</td>\n",
       "      <td>11757</td>\n",
       "      <td>6</td>\n",
       "      <td>Sword Art Online</td>\n",
       "    </tr>\n",
       "    <tr>\n",
       "      <th>206</th>\n",
       "      <td>250056</td>\n",
       "      <td>29803</td>\n",
       "      <td>7</td>\n",
       "      <td>None</td>\n",
       "    </tr>\n",
       "    <tr>\n",
       "      <th>206</th>\n",
       "      <td>250056</td>\n",
       "      <td>29786</td>\n",
       "      <td>8</td>\n",
       "      <td>None</td>\n",
       "    </tr>\n",
       "    <tr>\n",
       "      <th>206</th>\n",
       "      <td>250056</td>\n",
       "      <td>32937</td>\n",
       "      <td>9</td>\n",
       "      <td>None</td>\n",
       "    </tr>\n",
       "    <tr>\n",
       "      <th>206</th>\n",
       "      <td>250056</td>\n",
       "      <td>28171</td>\n",
       "      <td>10</td>\n",
       "      <td>None</td>\n",
       "    </tr>\n",
       "  </tbody>\n",
       "</table>\n",
       "</div>"
      ],
      "text/plain": [
       "     user_id item_id  rank             title\n",
       "206   250056   31240     1              None\n",
       "206   250056   28121     2              None\n",
       "206   250056   30831     3              None\n",
       "206   250056   31043     4              None\n",
       "206   250056   26243     5              None\n",
       "206   250056   11757     6  Sword Art Online\n",
       "206   250056   29803     7              None\n",
       "206   250056   29786     8              None\n",
       "206   250056   32937     9              None\n",
       "206   250056   28171    10              None"
      ]
     },
     "execution_count": 36,
     "metadata": {},
     "output_type": "execute_result"
    }
   ],
   "source": [
    "demid_recs"
   ]
  },
  {
   "cell_type": "code",
   "execution_count": 37,
   "id": "ab9762f2",
   "metadata": {},
   "outputs": [],
   "source": [
    "mapper = df[['item_id', 'item_name']].drop_duplicates()"
   ]
  },
  {
   "cell_type": "markdown",
   "id": "b67a8db1",
   "metadata": {},
   "source": []
  },
  {
   "cell_type": "code",
   "execution_count": 38,
   "id": "9b6a1ec5",
   "metadata": {},
   "outputs": [
    {
     "data": {
      "text/html": [
       "<div>\n",
       "<style scoped>\n",
       "    .dataframe tbody tr th:only-of-type {\n",
       "        vertical-align: middle;\n",
       "    }\n",
       "\n",
       "    .dataframe tbody tr th {\n",
       "        vertical-align: top;\n",
       "    }\n",
       "\n",
       "    .dataframe thead th {\n",
       "        text-align: right;\n",
       "    }\n",
       "</style>\n",
       "<table border=\"1\" class=\"dataframe\">\n",
       "  <thead>\n",
       "    <tr style=\"text-align: right;\">\n",
       "      <th></th>\n",
       "      <th>user_id</th>\n",
       "      <th>item_id</th>\n",
       "      <th>rank</th>\n",
       "      <th>title</th>\n",
       "      <th>item_name</th>\n",
       "    </tr>\n",
       "  </thead>\n",
       "  <tbody>\n",
       "    <tr>\n",
       "      <th>0</th>\n",
       "      <td>250056</td>\n",
       "      <td>31240</td>\n",
       "      <td>1</td>\n",
       "      <td>None</td>\n",
       "      <td>Re:Zero kara Hajimeru Isekai Seikatsu</td>\n",
       "    </tr>\n",
       "    <tr>\n",
       "      <th>1</th>\n",
       "      <td>250056</td>\n",
       "      <td>28121</td>\n",
       "      <td>2</td>\n",
       "      <td>None</td>\n",
       "      <td>Dungeon ni Deai wo Motomeru no wa Machigatteir...</td>\n",
       "    </tr>\n",
       "    <tr>\n",
       "      <th>2</th>\n",
       "      <td>250056</td>\n",
       "      <td>30831</td>\n",
       "      <td>3</td>\n",
       "      <td>None</td>\n",
       "      <td>Kono Subarashii Sekai ni Shukufuku wo!</td>\n",
       "    </tr>\n",
       "    <tr>\n",
       "      <th>3</th>\n",
       "      <td>250056</td>\n",
       "      <td>31043</td>\n",
       "      <td>4</td>\n",
       "      <td>None</td>\n",
       "      <td>Boku dake ga Inai Machi</td>\n",
       "    </tr>\n",
       "    <tr>\n",
       "      <th>4</th>\n",
       "      <td>250056</td>\n",
       "      <td>26243</td>\n",
       "      <td>5</td>\n",
       "      <td>None</td>\n",
       "      <td>Owari no Seraph</td>\n",
       "    </tr>\n",
       "    <tr>\n",
       "      <th>5</th>\n",
       "      <td>250056</td>\n",
       "      <td>11757</td>\n",
       "      <td>6</td>\n",
       "      <td>Sword Art Online</td>\n",
       "      <td>Sword Art Online</td>\n",
       "    </tr>\n",
       "    <tr>\n",
       "      <th>6</th>\n",
       "      <td>250056</td>\n",
       "      <td>29803</td>\n",
       "      <td>7</td>\n",
       "      <td>None</td>\n",
       "      <td>Overlord</td>\n",
       "    </tr>\n",
       "    <tr>\n",
       "      <th>7</th>\n",
       "      <td>250056</td>\n",
       "      <td>29786</td>\n",
       "      <td>8</td>\n",
       "      <td>None</td>\n",
       "      <td>Shimoneta to Iu Gainen ga Sonzai Shinai Taikut...</td>\n",
       "    </tr>\n",
       "    <tr>\n",
       "      <th>8</th>\n",
       "      <td>250056</td>\n",
       "      <td>32937</td>\n",
       "      <td>9</td>\n",
       "      <td>None</td>\n",
       "      <td>Kono Subarashii Sekai ni Shukufuku wo! 2</td>\n",
       "    </tr>\n",
       "    <tr>\n",
       "      <th>9</th>\n",
       "      <td>250056</td>\n",
       "      <td>28171</td>\n",
       "      <td>10</td>\n",
       "      <td>None</td>\n",
       "      <td>Shokugeki no Souma</td>\n",
       "    </tr>\n",
       "  </tbody>\n",
       "</table>\n",
       "</div>"
      ],
      "text/plain": [
       "   user_id item_id  rank             title  \\\n",
       "0   250056   31240     1              None   \n",
       "1   250056   28121     2              None   \n",
       "2   250056   30831     3              None   \n",
       "3   250056   31043     4              None   \n",
       "4   250056   26243     5              None   \n",
       "5   250056   11757     6  Sword Art Online   \n",
       "6   250056   29803     7              None   \n",
       "7   250056   29786     8              None   \n",
       "8   250056   32937     9              None   \n",
       "9   250056   28171    10              None   \n",
       "\n",
       "                                           item_name  \n",
       "0              Re:Zero kara Hajimeru Isekai Seikatsu  \n",
       "1  Dungeon ni Deai wo Motomeru no wa Machigatteir...  \n",
       "2             Kono Subarashii Sekai ni Shukufuku wo!  \n",
       "3                            Boku dake ga Inai Machi  \n",
       "4                                    Owari no Seraph  \n",
       "5                                   Sword Art Online  \n",
       "6                                           Overlord  \n",
       "7  Shimoneta to Iu Gainen ga Sonzai Shinai Taikut...  \n",
       "8           Kono Subarashii Sekai ni Shukufuku wo! 2  \n",
       "9                                 Shokugeki no Souma  "
      ]
     },
     "execution_count": 38,
     "metadata": {},
     "output_type": "execute_result"
    }
   ],
   "source": [
    "pd.merge(demid_recs, mapper, left_on='item_id', right_on='item_id',  how='left')"
   ]
  }
 ],
 "metadata": {
  "kernelspec": {
   "display_name": "Python 3 (ipykernel)",
   "language": "python",
   "name": "python3"
  },
  "language_info": {
   "codemirror_mode": {
    "name": "ipython",
    "version": 3
   },
   "file_extension": ".py",
   "mimetype": "text/x-python",
   "name": "python",
   "nbconvert_exporter": "python",
   "pygments_lexer": "ipython3",
   "version": "3.10.12"
  }
 },
 "nbformat": 4,
 "nbformat_minor": 5
}
