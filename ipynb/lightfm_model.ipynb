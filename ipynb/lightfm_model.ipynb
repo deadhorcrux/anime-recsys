{
 "cells": [
  {
   "cell_type": "code",
   "execution_count": 1,
   "id": "b6159e6a-7323-4a7f-a464-0948eb747d82",
   "metadata": {},
   "outputs": [],
   "source": [
    "import pandas as pd \n",
    "import numpy as np\n",
    "import joblib\n",
    "from ast import literal_eval"
   ]
  },
  {
   "cell_type": "code",
   "execution_count": null,
   "id": "be8bfd85-5252-4d6d-8af2-04692b3531bf",
   "metadata": {},
   "outputs": [],
   "source": [
    "DUMP = True"
   ]
  },
  {
   "cell_type": "code",
   "execution_count": 2,
   "id": "f70b67f7-5fbf-408f-9c4d-790ee546737d",
   "metadata": {},
   "outputs": [],
   "source": [
    "df_items = pd.read_csv('./data/items.csv', names = ['id', 'name', 'russian', 'kind', 'item_episodes', 'item_aired', 'item_score'])\n",
    "df = pd.read_csv('./data/interactions.csv', names = ['user_id', 'user_name', 'rating', 'timestamp', 'item_id', 'item_name', 'item_russian'])\n",
    "df_users = pd.read_csv('./data/users.csv', names = ['user_id', 'sex', 'age'])"
   ]
  },
  {
   "cell_type": "code",
   "execution_count": 3,
   "id": "83912dfa-926f-413c-92dd-c2d59c73b6fe",
   "metadata": {},
   "outputs": [],
   "source": [
    "animes = pd.read_csv('./data/anime_preprocessong.csv')\n",
    "genres_map = pd.Series(animes['genres'].values, index=animes['id']).to_dict()\n",
    "df_items['genres'] = df_items['id'].map(genres_map.get)"
   ]
  },
  {
   "cell_type": "code",
   "execution_count": 4,
   "id": "00d67f77-8306-4661-8410-da34ffd2e33a",
   "metadata": {},
   "outputs": [
    {
     "data": {
      "text/plain": [
       "array(['Action,Drama,Mystery,Supernatural,Police',\n",
       "       'Comedy,Drama,Romance,Josei', 'Sports,School,Shounen', ..., 'ona',\n",
       "       'music', 'kind_unknown'], dtype=object)"
      ]
     },
     "execution_count": 4,
     "metadata": {},
     "output_type": "execute_result"
    }
   ],
   "source": [
    "df_items['genres'] = df_items['genres'].fillna('genres_unknown')\n",
    "df_items['kind'] = df_items['kind'].fillna('kind_unknown')\n",
    "genres = df_items['genres'].unique()\n",
    "kind = df_items['kind'].unique()\n",
    "item_features = np.append(genres, kind)\n",
    "item_features"
   ]
  },
  {
   "cell_type": "code",
   "execution_count": 5,
   "id": "479c7fe6-4ef9-4e3b-bdea-5d512f01a37b",
   "metadata": {},
   "outputs": [
    {
     "data": {
      "text/plain": [
       "['age_unknown', '26_29', '6_24', '29_35', '24_26']\n",
       "Categories (5, object): ['6_24' < '24_26' < '26_29' < '29_35' < 'age_unknown']"
      ]
     },
     "execution_count": 5,
     "metadata": {},
     "output_type": "execute_result"
    }
   ],
   "source": [
    "df_users['age'] = pd.qcut(df_users['age'], 4, labels=['6_24', '24_26', '26_29', '29_35']).astype('category')\n",
    "df_users['age'] = df_users['age'].cat.add_categories('age_unknown')\n",
    "df_users['age'] = df_users['age'].fillna('age_unknown')\n",
    "age_features = df_users['age'].unique()\n",
    "age_features"
   ]
  },
  {
   "cell_type": "code",
   "execution_count": 6,
   "id": "1e31fe21-b986-486f-aae9-2545d81c277c",
   "metadata": {},
   "outputs": [
    {
     "data": {
      "text/plain": [
       "array(['male', 'nan', 'female'], dtype=object)"
      ]
     },
     "execution_count": 6,
     "metadata": {},
     "output_type": "execute_result"
    }
   ],
   "source": [
    "df_users['sex'] = np.array(df_users['sex'].astype(str))\n",
    "df_users['sex'] = df_users['sex'].fillna('sex_unknown')\n",
    "sex_features = df_users['sex'].unique()\n",
    "sex_features"
   ]
  },
  {
   "cell_type": "code",
   "execution_count": 7,
   "id": "870dff3b-aab6-4ceb-8d16-706394c61329",
   "metadata": {},
   "outputs": [
    {
     "data": {
      "text/plain": [
       "array(['age_unknown', '26_29', '6_24', '29_35', '24_26', 'male', 'nan',\n",
       "       'female'], dtype=object)"
      ]
     },
     "execution_count": 7,
     "metadata": {},
     "output_type": "execute_result"
    }
   ],
   "source": [
    "user_features = np.append(age_features, sex_features)\n",
    "user_features"
   ]
  },
  {
   "cell_type": "code",
   "execution_count": 8,
   "id": "3505e9df-98c5-40da-b238-50c4c25a3832",
   "metadata": {},
   "outputs": [],
   "source": [
    "df_users['features'] = df_users[['age', 'sex']].astype(str).apply(lambda x: list(x), axis=1)"
   ]
  },
  {
   "cell_type": "code",
   "execution_count": 9,
   "id": "c44cb38a-e881-4673-b87a-467ca986008a",
   "metadata": {},
   "outputs": [],
   "source": [
    "df_items['features'] = df_items[['genres', 'kind']].astype(str).apply(lambda x: list(x), axis=1)"
   ]
  },
  {
   "cell_type": "code",
   "execution_count": 10,
   "id": "bcf31853-9038-4993-8121-e103bdcc6c39",
   "metadata": {},
   "outputs": [],
   "source": [
    "from lightfm.data import Dataset\n",
    "from lightfm import LightFM\n",
    "from sklearn.model_selection import KFold\n",
    "from tqdm import tqdm"
   ]
  },
  {
   "cell_type": "code",
   "execution_count": 11,
   "id": "55fe48ea-bad0-487b-8b21-1aa59fdb3f70",
   "metadata": {},
   "outputs": [],
   "source": [
    "dataset = Dataset()\n",
    "dataset.fit(df['user_id'].unique(), df['item_id'].unique())"
   ]
  },
  {
   "cell_type": "code",
   "execution_count": 12,
   "id": "18b44437-75e5-4a3e-ae04-2a074edd4e45",
   "metadata": {},
   "outputs": [],
   "source": [
    "dataset.fit_partial(user_features=user_features)\n",
    "dataset.fit_partial(item_features=item_features)"
   ]
  },
  {
   "cell_type": "code",
   "execution_count": 13,
   "id": "33e8b184-23b4-4b5c-b3b3-7b5c19504014",
   "metadata": {},
   "outputs": [
    {
     "data": {
      "text/plain": [
       "(31526, 14717)"
      ]
     },
     "execution_count": 13,
     "metadata": {},
     "output_type": "execute_result"
    }
   ],
   "source": [
    "num_users, num_items = dataset.interactions_shape()\n",
    "num_users, num_items"
   ]
  },
  {
   "cell_type": "code",
   "execution_count": 14,
   "id": "d0092f07-c0bd-484c-8d42-e8f1e832986f",
   "metadata": {},
   "outputs": [
    {
     "name": "stdout",
     "output_type": "stream",
     "text": [
      "users_mapping len -  31526\n",
      "user_features_mapping len -  31534\n",
      "items_mapping len -  14717\n",
      "Users item_features_mapping len -  17497\n"
     ]
    }
   ],
   "source": [
    "lightfm_mapping = dataset.mapping()\n",
    "lightfm_mapping = {\n",
    "    'users_mapping': lightfm_mapping[0],\n",
    "    'user_features_mapping': lightfm_mapping[1],\n",
    "    'items_mapping': lightfm_mapping[2],\n",
    "    'item_features_mapping': lightfm_mapping[3],\n",
    "}\n",
    "print('users_mapping len - ', len(lightfm_mapping['users_mapping']))\n",
    "print('user_features_mapping len - ', len(lightfm_mapping['user_features_mapping']))\n",
    "print('items_mapping len - ', len(lightfm_mapping['items_mapping']))\n",
    "print('Users item_features_mapping len - ', len(lightfm_mapping['item_features_mapping']))"
   ]
  },
  {
   "cell_type": "code",
   "execution_count": 15,
   "id": "88687b17-5d26-4af1-93c7-860f6962af9d",
   "metadata": {},
   "outputs": [],
   "source": [
    "lightfm_mapping['users_inv_mapping'] = {v: k for k, v in lightfm_mapping['users_mapping'].items()}\n",
    "lightfm_mapping['items_inv_mapping'] = {v: k for k, v in lightfm_mapping['items_mapping'].items()}"
   ]
  },
  {
   "cell_type": "code",
   "execution_count": 16,
   "id": "abdfaf04-79df-41b0-85a4-c1942975e01c",
   "metadata": {},
   "outputs": [
    {
     "name": "stdout",
     "output_type": "stream",
     "text": [
      "Num user features: 8 -> 31534\n",
      "num item features: 2780 -> 17497.\n"
     ]
    }
   ],
   "source": [
    "num_user_features = dataset.user_features_shape()\n",
    "num_show_features = dataset.item_features_shape()\n",
    "print('Num user features: {} -> {}\\nnum item features: {} -> {}.'.format(\n",
    "    num_user_features[1] - num_users, num_user_features[1], \n",
    "    num_show_features[1] - num_items, num_show_features[1]))"
   ]
  },
  {
   "cell_type": "code",
   "execution_count": 17,
   "id": "30872342-c331-47bc-8624-bfb6fbe23e16",
   "metadata": {},
   "outputs": [],
   "source": [
    "def df_to_tuple_iterator(df):\n",
    "    return zip(*df.values.T)\n",
    "\n",
    "def concat_last_to_list(t):\n",
    "    return (t[0], list(t[1:])[0])\n",
    "\n",
    "def df_to_tuple_list_iterator(df):\n",
    "    return map(concat_last_to_list, zip(*df.values.T))"
   ]
  },
  {
   "cell_type": "code",
   "execution_count": 18,
   "id": "924b4ea9-0b6e-41fe-b080-c873d61ed49c",
   "metadata": {},
   "outputs": [
    {
     "data": {
      "text/plain": [
       "<31526x14717 sparse matrix of type '<class 'numpy.int32'>'\n",
       "\twith 5828721 stored elements in COOrdinate format>"
      ]
     },
     "execution_count": 18,
     "metadata": {},
     "output_type": "execute_result"
    }
   ],
   "source": [
    "train_mat, train_mat_weights = dataset.build_interactions(df_to_tuple_iterator(df[['user_id', 'item_id']]))\n",
    "train_mat"
   ]
  },
  {
   "cell_type": "code",
   "execution_count": 19,
   "id": "ab60d495-3b7e-4c57-b4e4-9062273f701f",
   "metadata": {},
   "outputs": [
    {
     "data": {
      "text/plain": [
       "<31526x31534 sparse matrix of type '<class 'numpy.float32'>'\n",
       "\twith 93364 stored elements in Compressed Sparse Row format>"
      ]
     },
     "execution_count": 19,
     "metadata": {},
     "output_type": "execute_result"
    }
   ],
   "source": [
    "known_users_filter = df_users['user_id'].isin(df['user_id'].unique())\n",
    "train_user_features = dataset.build_user_features(\n",
    "    df_to_tuple_list_iterator(\n",
    "        df_users.loc[known_users_filter, ['user_id', 'features']]\n",
    "    )\n",
    ")\n",
    "train_user_features"
   ]
  },
  {
   "cell_type": "code",
   "execution_count": 20,
   "id": "bc201b97-11de-4907-857f-32e31bb1226e",
   "metadata": {},
   "outputs": [
    {
     "data": {
      "text/plain": [
       "<14717x17497 sparse matrix of type '<class 'numpy.float32'>'\n",
       "\twith 44151 stored elements in Compressed Sparse Row format>"
      ]
     },
     "execution_count": 20,
     "metadata": {},
     "output_type": "execute_result"
    }
   ],
   "source": [
    "known_items_filter = df_items['id'].isin(df['item_id'].unique())\n",
    "train_items_features = dataset.build_item_features(\n",
    "    df_to_tuple_list_iterator(\n",
    "        df_items.loc[known_items_filter, ['id', 'features']]\n",
    "    )\n",
    ")\n",
    "train_items_features"
   ]
  },
  {
   "cell_type": "code",
   "execution_count": 21,
   "id": "e1396a54-1e18-48a1-b96b-3149de690726",
   "metadata": {},
   "outputs": [],
   "source": [
    "lfm_model = LightFM(no_components=64, learning_rate=0.05, loss='warp', random_state=23)"
   ]
  },
  {
   "cell_type": "code",
   "execution_count": 22,
   "id": "6b95d059-7aa0-4ecc-8a94-1f2710681cac",
   "metadata": {},
   "outputs": [
    {
     "name": "stderr",
     "output_type": "stream",
     "text": [
      "100%|████████████████████████████████████████████████████████████████████████████████████████████████████████████████████████████████████████████████████████████| 15/15 [06:25<00:00, 25.67s/it]\n"
     ]
    }
   ],
   "source": [
    "num_epochs = 15\n",
    "for _ in tqdm(range(num_epochs), total=num_epochs):\n",
    "    lfm_model.fit_partial(\n",
    "        train_mat, \n",
    "        user_features=train_user_features,\n",
    "        item_features=train_items_features,\n",
    "        num_threads=4\n",
    "    )"
   ]
  },
  {
   "cell_type": "code",
   "execution_count": 23,
   "id": "1f3f425c-730f-44d8-96fc-74a3745e47e9",
   "metadata": {},
   "outputs": [
    {
     "data": {
      "text/plain": [
       "14717"
      ]
     },
     "execution_count": 23,
     "metadata": {},
     "output_type": "execute_result"
    }
   ],
   "source": [
    "all_cols = list(lightfm_mapping['items_mapping'].values())\n",
    "len(all_cols)"
   ]
  },
  {
   "cell_type": "code",
   "execution_count": 24,
   "id": "952b84b7-c43d-4db7-9c57-bbab6bb57c57",
   "metadata": {},
   "outputs": [
    {
     "name": "stdout",
     "output_type": "stream",
     "text": [
      "Рекомендации для пользователя 1, номер строки - 0\n"
     ]
    }
   ],
   "source": [
    "top_N = 10\n",
    "user_id = df['user_id'].iloc[0]\n",
    "row_id = lightfm_mapping['users_mapping'][user_id]\n",
    "print(f'Рекомендации для пользователя {user_id}, номер строки - {row_id}')"
   ]
  },
  {
   "cell_type": "code",
   "execution_count": 25,
   "id": "5cb3aaec-be44-4b4e-97bd-ce9fbd485253",
   "metadata": {},
   "outputs": [
    {
     "data": {
      "text/plain": [
       "(array([-185.76512, -185.5178 , -187.2735 , ..., -197.6853 , -196.62538,\n",
       "        -197.7492 ], dtype=float32),\n",
       " (14717,))"
      ]
     },
     "execution_count": 25,
     "metadata": {},
     "output_type": "execute_result"
    }
   ],
   "source": [
    "pred = lfm_model.predict(row_id, all_cols, user_features=train_user_features, item_features=train_items_features, num_threads=4)\n",
    "pred, pred.shape"
   ]
  },
  {
   "cell_type": "code",
   "execution_count": 26,
   "id": "f08ef4d3-e799-4e4e-9326-91fbe046d3dc",
   "metadata": {},
   "outputs": [
    {
     "data": {
      "text/plain": [
       "array([139, 148, 533,  55,  11, 132, 133, 164, 225,  27])"
      ]
     },
     "execution_count": 26,
     "metadata": {},
     "output_type": "execute_result"
    }
   ],
   "source": [
    "top_cols = np.argpartition(pred, -np.arange(top_N))[-top_N:][::-1]\n",
    "top_cols"
   ]
  },
  {
   "cell_type": "code",
   "execution_count": 27,
   "id": "be4b46f5-b16c-4d0a-842e-ed780ae7e240",
   "metadata": {},
   "outputs": [
    {
     "data": {
      "text/plain": [
       "array([-183.99722, -184.10017, -184.17398, -184.32202, -184.32478,\n",
       "       -184.47348, -184.47845, -184.48257, -184.48944, -184.49306],\n",
       "      dtype=float32)"
      ]
     },
     "execution_count": 27,
     "metadata": {},
     "output_type": "execute_result"
    }
   ],
   "source": [
    "pred[top_cols]"
   ]
  },
  {
   "cell_type": "code",
   "execution_count": 29,
   "id": "0c43f35c-f83b-4dc7-ba37-07dcc6d2d6e9",
   "metadata": {},
   "outputs": [],
   "source": [
    "item_titles = pd.Series(df_items['name'].values, index=df_items['id']).to_dict()"
   ]
  },
  {
   "cell_type": "code",
   "execution_count": 30,
   "id": "05c36290-e322-4dea-ba03-148797b50cc6",
   "metadata": {},
   "outputs": [
    {
     "data": {
      "text/html": [
       "<div>\n",
       "<style scoped>\n",
       "    .dataframe tbody tr th:only-of-type {\n",
       "        vertical-align: middle;\n",
       "    }\n",
       "\n",
       "    .dataframe tbody tr th {\n",
       "        vertical-align: top;\n",
       "    }\n",
       "\n",
       "    .dataframe thead th {\n",
       "        text-align: right;\n",
       "    }\n",
       "</style>\n",
       "<table border=\"1\" class=\"dataframe\">\n",
       "  <thead>\n",
       "    <tr style=\"text-align: right;\">\n",
       "      <th></th>\n",
       "      <th>col_id</th>\n",
       "      <th>item_id</th>\n",
       "      <th>title</th>\n",
       "    </tr>\n",
       "  </thead>\n",
       "  <tbody>\n",
       "    <tr>\n",
       "      <th>0</th>\n",
       "      <td>139</td>\n",
       "      <td>1535</td>\n",
       "      <td>Death Note</td>\n",
       "    </tr>\n",
       "    <tr>\n",
       "      <th>1</th>\n",
       "      <td>148</td>\n",
       "      <td>1575</td>\n",
       "      <td>Code Geass: Hangyaku no Lelouch</td>\n",
       "    </tr>\n",
       "    <tr>\n",
       "      <th>2</th>\n",
       "      <td>533</td>\n",
       "      <td>226</td>\n",
       "      <td>Elfen Lied</td>\n",
       "    </tr>\n",
       "    <tr>\n",
       "      <th>3</th>\n",
       "      <td>55</td>\n",
       "      <td>245</td>\n",
       "      <td>Great Teacher Onizuka</td>\n",
       "    </tr>\n",
       "    <tr>\n",
       "      <th>4</th>\n",
       "      <td>11</td>\n",
       "      <td>71</td>\n",
       "      <td>Full Metal Panic!</td>\n",
       "    </tr>\n",
       "    <tr>\n",
       "      <th>5</th>\n",
       "      <td>132</td>\n",
       "      <td>1195</td>\n",
       "      <td>Zero no Tsukaima</td>\n",
       "    </tr>\n",
       "    <tr>\n",
       "      <th>6</th>\n",
       "      <td>133</td>\n",
       "      <td>1210</td>\n",
       "      <td>NHK ni Youkoso!</td>\n",
       "    </tr>\n",
       "    <tr>\n",
       "      <th>7</th>\n",
       "      <td>164</td>\n",
       "      <td>1840</td>\n",
       "      <td>Zero no Tsukaima: Futatsuki no Kishi</td>\n",
       "    </tr>\n",
       "    <tr>\n",
       "      <th>8</th>\n",
       "      <td>225</td>\n",
       "      <td>3712</td>\n",
       "      <td>Zero no Tsukaima: Princesses no Rondo</td>\n",
       "    </tr>\n",
       "    <tr>\n",
       "      <th>9</th>\n",
       "      <td>27</td>\n",
       "      <td>121</td>\n",
       "      <td>Fullmetal Alchemist</td>\n",
       "    </tr>\n",
       "  </tbody>\n",
       "</table>\n",
       "</div>"
      ],
      "text/plain": [
       "   col_id  item_id                                  title\n",
       "0     139     1535                             Death Note\n",
       "1     148     1575        Code Geass: Hangyaku no Lelouch\n",
       "2     533      226                             Elfen Lied\n",
       "3      55      245                  Great Teacher Onizuka\n",
       "4      11       71                      Full Metal Panic!\n",
       "5     132     1195                       Zero no Tsukaima\n",
       "6     133     1210                        NHK ni Youkoso!\n",
       "7     164     1840   Zero no Tsukaima: Futatsuki no Kishi\n",
       "8     225     3712  Zero no Tsukaima: Princesses no Rondo\n",
       "9      27      121                    Fullmetal Alchemist"
      ]
     },
     "execution_count": 30,
     "metadata": {},
     "output_type": "execute_result"
    }
   ],
   "source": [
    "recs = pd.DataFrame({'col_id': top_cols})\n",
    "recs['item_id'] = recs['col_id'].map(lightfm_mapping['items_inv_mapping'].get)\n",
    "recs['title'] = recs['item_id'].map(item_titles.get)\n",
    "recs"
   ]
  },
  {
   "cell_type": "code",
   "execution_count": 31,
   "id": "cac03596-9653-4ec8-bf3f-c6ffce8ce1e9",
   "metadata": {},
   "outputs": [],
   "source": [
    "def generate_lightfm_recs_mapper(model, item_ids, known_items, user_features, item_features, N, user_mapping, item_inv_mapping, num_threads=4):\n",
    "    def _recs_mapper(user):\n",
    "        user_id = user_mapping[user]\n",
    "        recs = model.predict(user_id, item_ids, user_features=user_features, item_features=item_features, num_threads=num_threads)\n",
    "        \n",
    "        additional_N = len(known_items[user_id]) if user_id in known_items else 0\n",
    "        total_N = N + additional_N\n",
    "        top_cols = np.argpartition(recs, -np.arange(total_N))[-total_N:][::-1]\n",
    "        \n",
    "        final_recs = [item_inv_mapping[item] for item in top_cols]\n",
    "        if additional_N > 0:\n",
    "            filter_items = known_items[user_id]\n",
    "            final_recs = [item for item in final_recs if item not in filter_items]\n",
    "        return final_recs[:N]\n",
    "    return _recs_mapper"
   ]
  },
  {
   "cell_type": "code",
   "execution_count": 32,
   "id": "e58ca64e-a3fd-444f-8f78-729c3f49dc78",
   "metadata": {},
   "outputs": [
    {
     "data": {
      "text/plain": [
       "31526"
      ]
     },
     "execution_count": 32,
     "metadata": {},
     "output_type": "execute_result"
    }
   ],
   "source": [
    "known_items = df.groupby('user_id')['item_id'].apply(list).to_dict()\n",
    "len(known_items)"
   ]
  },
  {
   "cell_type": "code",
   "execution_count": 33,
   "id": "d92b25ca-f28d-42e0-a9cc-63817abb0191",
   "metadata": {},
   "outputs": [],
   "source": [
    "mapper = generate_lightfm_recs_mapper(\n",
    "    lfm_model, \n",
    "    item_ids=all_cols, \n",
    "    known_items=known_items,\n",
    "    N=top_N,\n",
    "    user_features=train_user_features, \n",
    "    item_features=train_items_features, \n",
    "    user_mapping=lightfm_mapping['users_mapping'],\n",
    "    item_inv_mapping=lightfm_mapping['items_inv_mapping'],\n",
    "    num_threads=4\n",
    ")"
   ]
  },
  {
   "cell_type": "code",
   "execution_count": 34,
   "id": "98f2c783-a03d-4a1c-8f4f-7726258850e0",
   "metadata": {},
   "outputs": [],
   "source": [
    "recs = pd.DataFrame({\n",
    "    'user_id': df['user_id'].unique()\n",
    "})"
   ]
  },
  {
   "cell_type": "code",
   "execution_count": 35,
   "id": "821fcd2f-6074-452d-9e6f-0352c5500977",
   "metadata": {},
   "outputs": [
    {
     "name": "stdout",
     "output_type": "stream",
     "text": [
      "CPU times: user 10min 49s, sys: 935 ms, total: 10min 50s\n",
      "Wall time: 3min 2s\n"
     ]
    }
   ],
   "source": [
    "%%time\n",
    "recs['item_id'] = recs['user_id'].map(mapper)"
   ]
  },
  {
   "cell_type": "code",
   "execution_count": 36,
   "id": "8b7ce7a1-6f61-4d30-bc37-bfc4d9757e06",
   "metadata": {},
   "outputs": [],
   "source": [
    "recs = recs.explode('item_id')\n",
    "recs['rank'] = recs.groupby('user_id').cumcount() + 1"
   ]
  },
  {
   "cell_type": "code",
   "execution_count": 37,
   "id": "2223001a-2a97-4e83-b0ad-9e14d5637bf1",
   "metadata": {},
   "outputs": [],
   "source": [
    "recs['title'] = recs['item_id'].map(item_titles.get)"
   ]
  },
  {
   "cell_type": "code",
   "execution_count": 43,
   "id": "d6e72358-db44-4dad-8613-62e280972b88",
   "metadata": {},
   "outputs": [
    {
     "data": {
      "text/html": [
       "<div>\n",
       "<style scoped>\n",
       "    .dataframe tbody tr th:only-of-type {\n",
       "        vertical-align: middle;\n",
       "    }\n",
       "\n",
       "    .dataframe tbody tr th {\n",
       "        vertical-align: top;\n",
       "    }\n",
       "\n",
       "    .dataframe thead th {\n",
       "        text-align: right;\n",
       "    }\n",
       "</style>\n",
       "<table border=\"1\" class=\"dataframe\">\n",
       "  <thead>\n",
       "    <tr style=\"text-align: right;\">\n",
       "      <th></th>\n",
       "      <th>user_id</th>\n",
       "      <th>item_id</th>\n",
       "      <th>rank</th>\n",
       "      <th>title</th>\n",
       "    </tr>\n",
       "  </thead>\n",
       "  <tbody>\n",
       "    <tr>\n",
       "      <th>31525</th>\n",
       "      <td>99999</td>\n",
       "      <td>1535</td>\n",
       "      <td>1</td>\n",
       "      <td>Death Note</td>\n",
       "    </tr>\n",
       "    <tr>\n",
       "      <th>31525</th>\n",
       "      <td>99999</td>\n",
       "      <td>10408</td>\n",
       "      <td>2</td>\n",
       "      <td>Hotarubi no Mori e</td>\n",
       "    </tr>\n",
       "    <tr>\n",
       "      <th>31525</th>\n",
       "      <td>99999</td>\n",
       "      <td>431</td>\n",
       "      <td>3</td>\n",
       "      <td>Howl no Ugoku Shiro</td>\n",
       "    </tr>\n",
       "    <tr>\n",
       "      <th>31525</th>\n",
       "      <td>99999</td>\n",
       "      <td>199</td>\n",
       "      <td>4</td>\n",
       "      <td>Sen to Chihiro no Kamikakushi</td>\n",
       "    </tr>\n",
       "    <tr>\n",
       "      <th>31525</th>\n",
       "      <td>99999</td>\n",
       "      <td>523</td>\n",
       "      <td>5</td>\n",
       "      <td>Tonari no Totoro</td>\n",
       "    </tr>\n",
       "    <tr>\n",
       "      <th>31525</th>\n",
       "      <td>99999</td>\n",
       "      <td>9253</td>\n",
       "      <td>6</td>\n",
       "      <td>Steins;Gate</td>\n",
       "    </tr>\n",
       "    <tr>\n",
       "      <th>31525</th>\n",
       "      <td>99999</td>\n",
       "      <td>10620</td>\n",
       "      <td>7</td>\n",
       "      <td>Mirai Nikki (TV)</td>\n",
       "    </tr>\n",
       "    <tr>\n",
       "      <th>31525</th>\n",
       "      <td>99999</td>\n",
       "      <td>22319</td>\n",
       "      <td>8</td>\n",
       "      <td>Tokyo Ghoul</td>\n",
       "    </tr>\n",
       "    <tr>\n",
       "      <th>31525</th>\n",
       "      <td>99999</td>\n",
       "      <td>4898</td>\n",
       "      <td>9</td>\n",
       "      <td>Kuroshitsuji</td>\n",
       "    </tr>\n",
       "    <tr>\n",
       "      <th>31525</th>\n",
       "      <td>99999</td>\n",
       "      <td>3588</td>\n",
       "      <td>10</td>\n",
       "      <td>Soul Eater</td>\n",
       "    </tr>\n",
       "  </tbody>\n",
       "</table>\n",
       "</div>"
      ],
      "text/plain": [
       "       user_id item_id  rank                          title\n",
       "31525    99999    1535     1                     Death Note\n",
       "31525    99999   10408     2             Hotarubi no Mori e\n",
       "31525    99999     431     3            Howl no Ugoku Shiro\n",
       "31525    99999     199     4  Sen to Chihiro no Kamikakushi\n",
       "31525    99999     523     5               Tonari no Totoro\n",
       "31525    99999    9253     6                    Steins;Gate\n",
       "31525    99999   10620     7               Mirai Nikki (TV)\n",
       "31525    99999   22319     8                    Tokyo Ghoul\n",
       "31525    99999    4898     9                   Kuroshitsuji\n",
       "31525    99999    3588    10                     Soul Eater"
      ]
     },
     "execution_count": 43,
     "metadata": {},
     "output_type": "execute_result"
    }
   ],
   "source": [
    "recs.tail(10)"
   ]
  },
  {
   "cell_type": "code",
   "execution_count": null,
   "id": "a708fc20-65a1-4cb6-9dd0-cf8ad248b320",
   "metadata": {},
   "outputs": [],
   "source": [
    "if DUMP:\n",
    "    import os \n",
    "    os.system('mkdir models')\n",
    "    joblib.dump(lfm_model, './models/lightfm.model')"
   ]
  }
 ],
 "metadata": {
  "kernelspec": {
   "display_name": "Python 3 (ipykernel)",
   "language": "python",
   "name": "python3"
  },
  "language_info": {
   "codemirror_mode": {
    "name": "ipython",
    "version": 3
   },
   "file_extension": ".py",
   "mimetype": "text/x-python",
   "name": "python",
   "nbconvert_exporter": "python",
   "pygments_lexer": "ipython3",
   "version": "3.10.12"
  }
 },
 "nbformat": 4,
 "nbformat_minor": 5
}
