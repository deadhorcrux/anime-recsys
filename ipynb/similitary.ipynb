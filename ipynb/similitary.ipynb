{
 "cells": [
  {
   "cell_type": "code",
   "execution_count": 60,
   "id": "64f9b244-38b0-4fa1-bdb0-d8271b6d8fea",
   "metadata": {},
   "outputs": [],
   "source": [
    "import pandas as pd\n",
    "import numpy as np\n",
    "from sklearn.preprocessing import LabelEncoder\n",
    "from sklearn.metrics.pairwise import cosine_similarity"
   ]
  },
  {
   "cell_type": "code",
   "execution_count": 2,
   "id": "62c5ce9e-242d-438d-9cb0-81c24ada0585",
   "metadata": {},
   "outputs": [],
   "source": [
    "df = pd.read_csv('./data/anime_prep.csv')"
   ]
  },
  {
   "cell_type": "code",
   "execution_count": 3,
   "id": "b02d2cd7-3817-49a7-9a62-ca55b01231f4",
   "metadata": {},
   "outputs": [],
   "source": [
    "df = df.drop(['Unnamed: 0'], axis=1)"
   ]
  },
  {
   "cell_type": "code",
   "execution_count": 4,
   "id": "7581c340-8e51-49e2-b86c-886101028768",
   "metadata": {},
   "outputs": [],
   "source": [
    "enc = LabelEncoder()"
   ]
  },
  {
   "cell_type": "code",
   "execution_count": 5,
   "id": "4bed237b-c64c-481c-b6ae-fcf9121e2b09",
   "metadata": {},
   "outputs": [],
   "source": [
    "df['kind'] = enc.fit_transform(df['kind'])\n",
    "df['rating'] = enc.fit_transform(df['rating'])"
   ]
  },
  {
   "cell_type": "code",
   "execution_count": 6,
   "id": "f9eefda6-584f-456b-95dd-7261d37d6634",
   "metadata": {},
   "outputs": [],
   "source": [
    "gmap = df['genres'].fillna('genres_unknow').str.split(',').explode().unique()"
   ]
  },
  {
   "cell_type": "code",
   "execution_count": 7,
   "id": "01ea0edf-55d2-4a67-8847-8f56986e59d7",
   "metadata": {},
   "outputs": [],
   "source": [
    "df['genres'] = df['genres'].str.split(',')"
   ]
  },
  {
   "cell_type": "code",
   "execution_count": 33,
   "id": "7a8e0927-5501-49c9-891d-eb8fbb49b042",
   "metadata": {},
   "outputs": [],
   "source": [
    "def oh(d):\n",
    "    ans = []\n",
    "    for g in gmap:\n",
    "        if g in d:\n",
    "            ans.append(1)\n",
    "        else:\n",
    "            ans.append(0)\n",
    "    return ans"
   ]
  },
  {
   "cell_type": "code",
   "execution_count": 48,
   "id": "d8620da9-4bae-41e9-b2e6-339b0075bed7",
   "metadata": {},
   "outputs": [],
   "source": [
    "df['genres'] = df['genres'].fillna('genres_unknown')"
   ]
  },
  {
   "cell_type": "code",
   "execution_count": 54,
   "id": "3c7d42c7-45fa-4b9e-a0a2-1c5b528de5ef",
   "metadata": {},
   "outputs": [],
   "source": [
    "arr = [ ] \n",
    "for i in df.index:\n",
    "    arr.append(oh(df['genres'][i]))"
   ]
  },
  {
   "cell_type": "code",
   "execution_count": 58,
   "id": "0fac7b64-66ff-4a36-85af-a7489f9821e2",
   "metadata": {},
   "outputs": [],
   "source": [
    "df = pd.concat([df, pd.DataFrame(arr, columns=gmap)], axis=1)"
   ]
  },
  {
   "cell_type": "code",
   "execution_count": 61,
   "id": "d9ce3fef-7b01-496b-9280-8034d4b493b6",
   "metadata": {},
   "outputs": [],
   "source": [
    "feat = np.append(gmap, ['kind', 'rating'])"
   ]
  },
  {
   "cell_type": "code",
   "execution_count": 68,
   "id": "4d2768be-4087-44ae-8b32-f16fa90872b4",
   "metadata": {},
   "outputs": [],
   "source": [
    "smd = df[feat]\n",
    "sim_matrix = cosine_similarity(smd, smd)"
   ]
  },
  {
   "cell_type": "code",
   "execution_count": 71,
   "id": "88647eb1-8af8-49fb-8ae9-d174e0b6a354",
   "metadata": {},
   "outputs": [],
   "source": [
    "def predict(title):\n",
    "    indices = pd.Series(dict(zip(tuple(df['russian']), df.index)))\n",
    "    titles = df[['name', 'russian', 'wr', 'kind']]\n",
    "    idx = indices[title]\n",
    "    sim_scores = list(enumerate(sim_matrix[idx]))\n",
    "    sim_scores = sorted(sim_scores, key=lambda x: x[1], reverse=True)\n",
    "    sim_scores = sim_scores[1:31]\n",
    "    title_indices = [i[0] for i in sim_scores]\n",
    "    ans = titles.iloc[title_indices].sort_values(by='wr', ascending=False)\n",
    "    ans = ans['russian']\n",
    "    return ans"
   ]
  },
  {
   "cell_type": "code",
   "execution_count": 73,
   "id": "29e0ce34-a0c6-4d70-9358-2f5e0b29c643",
   "metadata": {},
   "outputs": [
    {
     "data": {
      "text/plain": [
       "23                                           Берсерк\n",
       "8675                         Паразит: Учение о жизни\n",
       "804                           Пираты «Чёрной лагуны»\n",
       "1379             Пираты «Чёрной лагуны»: Второй залп\n",
       "202                                 Эльфийская песнь\n",
       "246                       Хеллсинг: Война с нечистью\n",
       "7103                                         Бтууум!\n",
       "8890                  По ту сторону границы: Рассвет\n",
       "1566                            Дьявол может плакать\n",
       "360                                             Ганц\n",
       "8866                            Гаро: Печать пламени\n",
       "8104                          Шутки чокнутой столицы\n",
       "8730                               Терраформирование\n",
       "371                              Ганц: Вторая стадия\n",
       "8182     Мастера Меча Онлайн: Дополнительное издание\n",
       "2394                              Ванганская полночь\n",
       "7397      Отсекающие и разделяющие преступные лезвия\n",
       "4719             Боевые библиотекари: Книга Банторры\n",
       "390                                         Рагнарёк\n",
       "7934           Лазурный гримуар: Другие воспоминания\n",
       "1480                                     Леди-дьявол\n",
       "6718    Сияющие сердца: Без хлеба куска везде тоска!\n",
       "8297                  Шутки чокнутой столицы: Рекапы\n",
       "8117                                Магические войны\n",
       "2850                                          Аякаши\n",
       "5850                              Ханаан: Спецвыпуск\n",
       "36                                        Парень Арк\n",
       "4519                                   Кошачий город\n",
       "1505                                    Крыло Гарзея\n",
       "8036                                         Куколка\n",
       "Name: russian, dtype: object"
      ]
     },
     "execution_count": 73,
     "metadata": {},
     "output_type": "execute_result"
    }
   ],
   "source": [
    "predict('Токийский гуль')"
   ]
  }
 ],
 "metadata": {
  "kernelspec": {
   "display_name": "Python 3 (ipykernel)",
   "language": "python",
   "name": "python3"
  },
  "language_info": {
   "codemirror_mode": {
    "name": "ipython",
    "version": 3
   },
   "file_extension": ".py",
   "mimetype": "text/x-python",
   "name": "python",
   "nbconvert_exporter": "python",
   "pygments_lexer": "ipython3",
   "version": "3.10.12"
  }
 },
 "nbformat": 4,
 "nbformat_minor": 5
}
